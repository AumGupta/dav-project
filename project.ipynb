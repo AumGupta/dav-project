{
 "cells": [
  {
   "cell_type": "markdown",
   "id": "f75a2b6b",
   "metadata": {},
   "source": [
    "# Customer Satisfaction Analysis\n",
    "\n",
    "**Objective:**\n",
    "We shall be analysing customer satisfaction by using their review score as a metric of satisfaction.\n",
    "\n",
    "**Dataset:**\n",
    "https://www.kaggle.com/datasets/olistbr/brazilian-ecommerce?resource=download\n",
    "\n",
    ">Brazilian E-Commerce Public Dataset by Olist\n",
    ">Welcome! This is a Brazilian ecommerce public dataset of orders made at Olist Store. The dataset has information of 100k orders from 2016 to 2018 made at multiple marketplaces in Brazil. Its features allows viewing an order from multiple dimensions: from order status, price, payment and freight performance to customer location, product attributes and finally reviews written by customers. We also released a geolocation dataset that relates Brazilian zip codes to lat/lng coordinates.\n",
    ">This is real commercial data, it has been anonymised, and references to the companies and partners in the review text have been replaced with the names of Game of Thrones great houses.\n"
   ]
  },
  {
   "cell_type": "markdown",
   "id": "fddf80a8",
   "metadata": {},
   "source": [
    "## Importing the files"
   ]
  },
  {
   "cell_type": "code",
   "execution_count": 2,
   "id": "f5ff6e40",
   "metadata": {},
   "outputs": [],
   "source": [
    "import pandas as pd\n",
    "import numpy as np\n",
    "import matplotlib.pyplot as plt\n",
    "import seaborn as sns"
   ]
  },
  {
   "cell_type": "code",
   "execution_count": 3,
   "id": "0413dfe4",
   "metadata": {},
   "outputs": [],
   "source": [
    "customers = pd.read_csv(\"datasets/olist_customers_dataset.csv\")\n",
    "geoloc = pd.read_csv(\"datasets/olist_geolocation_dataset.csv\")\n",
    "order_reviews = pd.read_csv(\"datasets/olist_order_reviews_dataset.csv\")\n",
    "order_items = pd.read_csv(\"datasets/olist_order_items_dataset.csv\")\n",
    "order_payments = pd.read_csv(\"datasets/olist_order_payments_dataset.csv\")\n",
    "orders = pd.read_csv(\"datasets/olist_orders_dataset.csv\")\n",
    "products = pd.read_csv(\"datasets/olist_products_dataset.csv\")\n",
    "sellers = pd.read_csv(\"datasets/olist_sellers_dataset.csv\")\n",
    "product_category_name_translation = pd.read_csv(\"datasets/product_category_name_translation.csv\")"
   ]
  },
  {
   "cell_type": "markdown",
   "id": "0e6af490",
   "metadata": {},
   "source": [
    "## Relationship Between The Tables\n",
    "![relationship-between-tables.png](datasets/relationship-between-tables.png)"
   ]
  },
  {
   "cell_type": "code",
   "execution_count": 4,
   "id": "e5a14d58",
   "metadata": {},
   "outputs": [
    {
     "data": {
      "text/html": [
       "<div>\n",
       "<style scoped>\n",
       "    .dataframe tbody tr th:only-of-type {\n",
       "        vertical-align: middle;\n",
       "    }\n",
       "\n",
       "    .dataframe tbody tr th {\n",
       "        vertical-align: top;\n",
       "    }\n",
       "\n",
       "    .dataframe thead th {\n",
       "        text-align: right;\n",
       "    }\n",
       "</style>\n",
       "<table border=\"1\" class=\"dataframe\">\n",
       "  <thead>\n",
       "    <tr style=\"text-align: right;\">\n",
       "      <th></th>\n",
       "      <th>customer_id</th>\n",
       "      <th>customer_unique_id</th>\n",
       "      <th>customer_zip_code_prefix</th>\n",
       "      <th>customer_city</th>\n",
       "      <th>customer_state</th>\n",
       "    </tr>\n",
       "  </thead>\n",
       "  <tbody>\n",
       "    <tr>\n",
       "      <th>0</th>\n",
       "      <td>06b8999e2fba1a1fbc88172c00ba8bc7</td>\n",
       "      <td>861eff4711a542e4b93843c6dd7febb0</td>\n",
       "      <td>14409</td>\n",
       "      <td>franca</td>\n",
       "      <td>SP</td>\n",
       "    </tr>\n",
       "    <tr>\n",
       "      <th>1</th>\n",
       "      <td>18955e83d337fd6b2def6b18a428ac77</td>\n",
       "      <td>290c77bc529b7ac935b93aa66c333dc3</td>\n",
       "      <td>9790</td>\n",
       "      <td>sao bernardo do campo</td>\n",
       "      <td>SP</td>\n",
       "    </tr>\n",
       "    <tr>\n",
       "      <th>2</th>\n",
       "      <td>4e7b3e00288586ebd08712fdd0374a03</td>\n",
       "      <td>060e732b5b29e8181a18229c7b0b2b5e</td>\n",
       "      <td>1151</td>\n",
       "      <td>sao paulo</td>\n",
       "      <td>SP</td>\n",
       "    </tr>\n",
       "    <tr>\n",
       "      <th>3</th>\n",
       "      <td>b2b6027bc5c5109e529d4dc6358b12c3</td>\n",
       "      <td>259dac757896d24d7702b9acbbff3f3c</td>\n",
       "      <td>8775</td>\n",
       "      <td>mogi das cruzes</td>\n",
       "      <td>SP</td>\n",
       "    </tr>\n",
       "    <tr>\n",
       "      <th>4</th>\n",
       "      <td>4f2d8ab171c80ec8364f7c12e35b23ad</td>\n",
       "      <td>345ecd01c38d18a9036ed96c73b8d066</td>\n",
       "      <td>13056</td>\n",
       "      <td>campinas</td>\n",
       "      <td>SP</td>\n",
       "    </tr>\n",
       "  </tbody>\n",
       "</table>\n",
       "</div>"
      ],
      "text/plain": [
       "                        customer_id                customer_unique_id  \\\n",
       "0  06b8999e2fba1a1fbc88172c00ba8bc7  861eff4711a542e4b93843c6dd7febb0   \n",
       "1  18955e83d337fd6b2def6b18a428ac77  290c77bc529b7ac935b93aa66c333dc3   \n",
       "2  4e7b3e00288586ebd08712fdd0374a03  060e732b5b29e8181a18229c7b0b2b5e   \n",
       "3  b2b6027bc5c5109e529d4dc6358b12c3  259dac757896d24d7702b9acbbff3f3c   \n",
       "4  4f2d8ab171c80ec8364f7c12e35b23ad  345ecd01c38d18a9036ed96c73b8d066   \n",
       "\n",
       "   customer_zip_code_prefix          customer_city customer_state  \n",
       "0                     14409                 franca             SP  \n",
       "1                      9790  sao bernardo do campo             SP  \n",
       "2                      1151              sao paulo             SP  \n",
       "3                      8775        mogi das cruzes             SP  \n",
       "4                     13056               campinas             SP  "
      ]
     },
     "execution_count": 4,
     "metadata": {},
     "output_type": "execute_result"
    }
   ],
   "source": [
    "customers.head()"
   ]
  },
  {
   "cell_type": "code",
   "execution_count": 5,
   "id": "f1759b56",
   "metadata": {},
   "outputs": [
    {
     "data": {
      "text/html": [
       "<div>\n",
       "<style scoped>\n",
       "    .dataframe tbody tr th:only-of-type {\n",
       "        vertical-align: middle;\n",
       "    }\n",
       "\n",
       "    .dataframe tbody tr th {\n",
       "        vertical-align: top;\n",
       "    }\n",
       "\n",
       "    .dataframe thead th {\n",
       "        text-align: right;\n",
       "    }\n",
       "</style>\n",
       "<table border=\"1\" class=\"dataframe\">\n",
       "  <thead>\n",
       "    <tr style=\"text-align: right;\">\n",
       "      <th></th>\n",
       "      <th>geolocation_zip_code_prefix</th>\n",
       "      <th>geolocation_lat</th>\n",
       "      <th>geolocation_lng</th>\n",
       "      <th>geolocation_city</th>\n",
       "      <th>geolocation_state</th>\n",
       "    </tr>\n",
       "  </thead>\n",
       "  <tbody>\n",
       "    <tr>\n",
       "      <th>0</th>\n",
       "      <td>1037</td>\n",
       "      <td>-23.545621</td>\n",
       "      <td>-46.639292</td>\n",
       "      <td>sao paulo</td>\n",
       "      <td>SP</td>\n",
       "    </tr>\n",
       "    <tr>\n",
       "      <th>1</th>\n",
       "      <td>1046</td>\n",
       "      <td>-23.546081</td>\n",
       "      <td>-46.644820</td>\n",
       "      <td>sao paulo</td>\n",
       "      <td>SP</td>\n",
       "    </tr>\n",
       "    <tr>\n",
       "      <th>2</th>\n",
       "      <td>1046</td>\n",
       "      <td>-23.546129</td>\n",
       "      <td>-46.642951</td>\n",
       "      <td>sao paulo</td>\n",
       "      <td>SP</td>\n",
       "    </tr>\n",
       "    <tr>\n",
       "      <th>3</th>\n",
       "      <td>1041</td>\n",
       "      <td>-23.544392</td>\n",
       "      <td>-46.639499</td>\n",
       "      <td>sao paulo</td>\n",
       "      <td>SP</td>\n",
       "    </tr>\n",
       "    <tr>\n",
       "      <th>4</th>\n",
       "      <td>1035</td>\n",
       "      <td>-23.541578</td>\n",
       "      <td>-46.641607</td>\n",
       "      <td>sao paulo</td>\n",
       "      <td>SP</td>\n",
       "    </tr>\n",
       "  </tbody>\n",
       "</table>\n",
       "</div>"
      ],
      "text/plain": [
       "   geolocation_zip_code_prefix  geolocation_lat  geolocation_lng  \\\n",
       "0                         1037       -23.545621       -46.639292   \n",
       "1                         1046       -23.546081       -46.644820   \n",
       "2                         1046       -23.546129       -46.642951   \n",
       "3                         1041       -23.544392       -46.639499   \n",
       "4                         1035       -23.541578       -46.641607   \n",
       "\n",
       "  geolocation_city geolocation_state  \n",
       "0        sao paulo                SP  \n",
       "1        sao paulo                SP  \n",
       "2        sao paulo                SP  \n",
       "3        sao paulo                SP  \n",
       "4        sao paulo                SP  "
      ]
     },
     "execution_count": 5,
     "metadata": {},
     "output_type": "execute_result"
    }
   ],
   "source": [
    "geoloc.head()"
   ]
  },
  {
   "cell_type": "code",
   "execution_count": 6,
   "id": "378aafaf",
   "metadata": {},
   "outputs": [
    {
     "data": {
      "text/html": [
       "<div>\n",
       "<style scoped>\n",
       "    .dataframe tbody tr th:only-of-type {\n",
       "        vertical-align: middle;\n",
       "    }\n",
       "\n",
       "    .dataframe tbody tr th {\n",
       "        vertical-align: top;\n",
       "    }\n",
       "\n",
       "    .dataframe thead th {\n",
       "        text-align: right;\n",
       "    }\n",
       "</style>\n",
       "<table border=\"1\" class=\"dataframe\">\n",
       "  <thead>\n",
       "    <tr style=\"text-align: right;\">\n",
       "      <th></th>\n",
       "      <th>review_id</th>\n",
       "      <th>order_id</th>\n",
       "      <th>review_score</th>\n",
       "      <th>review_comment_title</th>\n",
       "      <th>review_comment_message</th>\n",
       "      <th>review_creation_date</th>\n",
       "      <th>review_answer_timestamp</th>\n",
       "    </tr>\n",
       "  </thead>\n",
       "  <tbody>\n",
       "    <tr>\n",
       "      <th>0</th>\n",
       "      <td>7bc2406110b926393aa56f80a40eba40</td>\n",
       "      <td>73fc7af87114b39712e6da79b0a377eb</td>\n",
       "      <td>4</td>\n",
       "      <td>NaN</td>\n",
       "      <td>NaN</td>\n",
       "      <td>2018-01-18 00:00:00</td>\n",
       "      <td>2018-01-18 21:46:59</td>\n",
       "    </tr>\n",
       "    <tr>\n",
       "      <th>1</th>\n",
       "      <td>80e641a11e56f04c1ad469d5645fdfde</td>\n",
       "      <td>a548910a1c6147796b98fdf73dbeba33</td>\n",
       "      <td>5</td>\n",
       "      <td>NaN</td>\n",
       "      <td>NaN</td>\n",
       "      <td>2018-03-10 00:00:00</td>\n",
       "      <td>2018-03-11 03:05:13</td>\n",
       "    </tr>\n",
       "    <tr>\n",
       "      <th>2</th>\n",
       "      <td>228ce5500dc1d8e020d8d1322874b6f0</td>\n",
       "      <td>f9e4b658b201a9f2ecdecbb34bed034b</td>\n",
       "      <td>5</td>\n",
       "      <td>NaN</td>\n",
       "      <td>NaN</td>\n",
       "      <td>2018-02-17 00:00:00</td>\n",
       "      <td>2018-02-18 14:36:24</td>\n",
       "    </tr>\n",
       "    <tr>\n",
       "      <th>3</th>\n",
       "      <td>e64fb393e7b32834bb789ff8bb30750e</td>\n",
       "      <td>658677c97b385a9be170737859d3511b</td>\n",
       "      <td>5</td>\n",
       "      <td>NaN</td>\n",
       "      <td>Recebi bem antes do prazo estipulado.</td>\n",
       "      <td>2017-04-21 00:00:00</td>\n",
       "      <td>2017-04-21 22:02:06</td>\n",
       "    </tr>\n",
       "    <tr>\n",
       "      <th>4</th>\n",
       "      <td>f7c4243c7fe1938f181bec41a392bdeb</td>\n",
       "      <td>8e6bfb81e283fa7e4f11123a3fb894f1</td>\n",
       "      <td>5</td>\n",
       "      <td>NaN</td>\n",
       "      <td>Parabéns lojas lannister adorei comprar pela I...</td>\n",
       "      <td>2018-03-01 00:00:00</td>\n",
       "      <td>2018-03-02 10:26:53</td>\n",
       "    </tr>\n",
       "  </tbody>\n",
       "</table>\n",
       "</div>"
      ],
      "text/plain": [
       "                          review_id                          order_id  \\\n",
       "0  7bc2406110b926393aa56f80a40eba40  73fc7af87114b39712e6da79b0a377eb   \n",
       "1  80e641a11e56f04c1ad469d5645fdfde  a548910a1c6147796b98fdf73dbeba33   \n",
       "2  228ce5500dc1d8e020d8d1322874b6f0  f9e4b658b201a9f2ecdecbb34bed034b   \n",
       "3  e64fb393e7b32834bb789ff8bb30750e  658677c97b385a9be170737859d3511b   \n",
       "4  f7c4243c7fe1938f181bec41a392bdeb  8e6bfb81e283fa7e4f11123a3fb894f1   \n",
       "\n",
       "   review_score review_comment_title  \\\n",
       "0             4                  NaN   \n",
       "1             5                  NaN   \n",
       "2             5                  NaN   \n",
       "3             5                  NaN   \n",
       "4             5                  NaN   \n",
       "\n",
       "                              review_comment_message review_creation_date  \\\n",
       "0                                                NaN  2018-01-18 00:00:00   \n",
       "1                                                NaN  2018-03-10 00:00:00   \n",
       "2                                                NaN  2018-02-17 00:00:00   \n",
       "3              Recebi bem antes do prazo estipulado.  2017-04-21 00:00:00   \n",
       "4  Parabéns lojas lannister adorei comprar pela I...  2018-03-01 00:00:00   \n",
       "\n",
       "  review_answer_timestamp  \n",
       "0     2018-01-18 21:46:59  \n",
       "1     2018-03-11 03:05:13  \n",
       "2     2018-02-18 14:36:24  \n",
       "3     2017-04-21 22:02:06  \n",
       "4     2018-03-02 10:26:53  "
      ]
     },
     "execution_count": 6,
     "metadata": {},
     "output_type": "execute_result"
    }
   ],
   "source": [
    "order_reviews.head()"
   ]
  },
  {
   "cell_type": "code",
   "execution_count": 7,
   "id": "de8b63bd",
   "metadata": {},
   "outputs": [
    {
     "data": {
      "text/html": [
       "<div>\n",
       "<style scoped>\n",
       "    .dataframe tbody tr th:only-of-type {\n",
       "        vertical-align: middle;\n",
       "    }\n",
       "\n",
       "    .dataframe tbody tr th {\n",
       "        vertical-align: top;\n",
       "    }\n",
       "\n",
       "    .dataframe thead th {\n",
       "        text-align: right;\n",
       "    }\n",
       "</style>\n",
       "<table border=\"1\" class=\"dataframe\">\n",
       "  <thead>\n",
       "    <tr style=\"text-align: right;\">\n",
       "      <th></th>\n",
       "      <th>order_id</th>\n",
       "      <th>order_item_id</th>\n",
       "      <th>product_id</th>\n",
       "      <th>seller_id</th>\n",
       "      <th>shipping_limit_date</th>\n",
       "      <th>price</th>\n",
       "      <th>freight_value</th>\n",
       "    </tr>\n",
       "  </thead>\n",
       "  <tbody>\n",
       "    <tr>\n",
       "      <th>0</th>\n",
       "      <td>00010242fe8c5a6d1ba2dd792cb16214</td>\n",
       "      <td>1</td>\n",
       "      <td>4244733e06e7ecb4970a6e2683c13e61</td>\n",
       "      <td>48436dade18ac8b2bce089ec2a041202</td>\n",
       "      <td>2017-09-19 09:45:35</td>\n",
       "      <td>58.90</td>\n",
       "      <td>13.29</td>\n",
       "    </tr>\n",
       "    <tr>\n",
       "      <th>1</th>\n",
       "      <td>00018f77f2f0320c557190d7a144bdd3</td>\n",
       "      <td>1</td>\n",
       "      <td>e5f2d52b802189ee658865ca93d83a8f</td>\n",
       "      <td>dd7ddc04e1b6c2c614352b383efe2d36</td>\n",
       "      <td>2017-05-03 11:05:13</td>\n",
       "      <td>239.90</td>\n",
       "      <td>19.93</td>\n",
       "    </tr>\n",
       "    <tr>\n",
       "      <th>2</th>\n",
       "      <td>000229ec398224ef6ca0657da4fc703e</td>\n",
       "      <td>1</td>\n",
       "      <td>c777355d18b72b67abbeef9df44fd0fd</td>\n",
       "      <td>5b51032eddd242adc84c38acab88f23d</td>\n",
       "      <td>2018-01-18 14:48:30</td>\n",
       "      <td>199.00</td>\n",
       "      <td>17.87</td>\n",
       "    </tr>\n",
       "    <tr>\n",
       "      <th>3</th>\n",
       "      <td>00024acbcdf0a6daa1e931b038114c75</td>\n",
       "      <td>1</td>\n",
       "      <td>7634da152a4610f1595efa32f14722fc</td>\n",
       "      <td>9d7a1d34a5052409006425275ba1c2b4</td>\n",
       "      <td>2018-08-15 10:10:18</td>\n",
       "      <td>12.99</td>\n",
       "      <td>12.79</td>\n",
       "    </tr>\n",
       "    <tr>\n",
       "      <th>4</th>\n",
       "      <td>00042b26cf59d7ce69dfabb4e55b4fd9</td>\n",
       "      <td>1</td>\n",
       "      <td>ac6c3623068f30de03045865e4e10089</td>\n",
       "      <td>df560393f3a51e74553ab94004ba5c87</td>\n",
       "      <td>2017-02-13 13:57:51</td>\n",
       "      <td>199.90</td>\n",
       "      <td>18.14</td>\n",
       "    </tr>\n",
       "  </tbody>\n",
       "</table>\n",
       "</div>"
      ],
      "text/plain": [
       "                           order_id  order_item_id  \\\n",
       "0  00010242fe8c5a6d1ba2dd792cb16214              1   \n",
       "1  00018f77f2f0320c557190d7a144bdd3              1   \n",
       "2  000229ec398224ef6ca0657da4fc703e              1   \n",
       "3  00024acbcdf0a6daa1e931b038114c75              1   \n",
       "4  00042b26cf59d7ce69dfabb4e55b4fd9              1   \n",
       "\n",
       "                         product_id                         seller_id  \\\n",
       "0  4244733e06e7ecb4970a6e2683c13e61  48436dade18ac8b2bce089ec2a041202   \n",
       "1  e5f2d52b802189ee658865ca93d83a8f  dd7ddc04e1b6c2c614352b383efe2d36   \n",
       "2  c777355d18b72b67abbeef9df44fd0fd  5b51032eddd242adc84c38acab88f23d   \n",
       "3  7634da152a4610f1595efa32f14722fc  9d7a1d34a5052409006425275ba1c2b4   \n",
       "4  ac6c3623068f30de03045865e4e10089  df560393f3a51e74553ab94004ba5c87   \n",
       "\n",
       "   shipping_limit_date   price  freight_value  \n",
       "0  2017-09-19 09:45:35   58.90          13.29  \n",
       "1  2017-05-03 11:05:13  239.90          19.93  \n",
       "2  2018-01-18 14:48:30  199.00          17.87  \n",
       "3  2018-08-15 10:10:18   12.99          12.79  \n",
       "4  2017-02-13 13:57:51  199.90          18.14  "
      ]
     },
     "execution_count": 7,
     "metadata": {},
     "output_type": "execute_result"
    }
   ],
   "source": [
    "order_items.head()"
   ]
  },
  {
   "cell_type": "code",
   "execution_count": 8,
   "id": "a2fb3601",
   "metadata": {},
   "outputs": [
    {
     "data": {
      "text/html": [
       "<div>\n",
       "<style scoped>\n",
       "    .dataframe tbody tr th:only-of-type {\n",
       "        vertical-align: middle;\n",
       "    }\n",
       "\n",
       "    .dataframe tbody tr th {\n",
       "        vertical-align: top;\n",
       "    }\n",
       "\n",
       "    .dataframe thead th {\n",
       "        text-align: right;\n",
       "    }\n",
       "</style>\n",
       "<table border=\"1\" class=\"dataframe\">\n",
       "  <thead>\n",
       "    <tr style=\"text-align: right;\">\n",
       "      <th></th>\n",
       "      <th>order_id</th>\n",
       "      <th>payment_sequential</th>\n",
       "      <th>payment_type</th>\n",
       "      <th>payment_installments</th>\n",
       "      <th>payment_value</th>\n",
       "    </tr>\n",
       "  </thead>\n",
       "  <tbody>\n",
       "    <tr>\n",
       "      <th>0</th>\n",
       "      <td>b81ef226f3fe1789b1e8b2acac839d17</td>\n",
       "      <td>1</td>\n",
       "      <td>credit_card</td>\n",
       "      <td>8</td>\n",
       "      <td>99.33</td>\n",
       "    </tr>\n",
       "    <tr>\n",
       "      <th>1</th>\n",
       "      <td>a9810da82917af2d9aefd1278f1dcfa0</td>\n",
       "      <td>1</td>\n",
       "      <td>credit_card</td>\n",
       "      <td>1</td>\n",
       "      <td>24.39</td>\n",
       "    </tr>\n",
       "    <tr>\n",
       "      <th>2</th>\n",
       "      <td>25e8ea4e93396b6fa0d3dd708e76c1bd</td>\n",
       "      <td>1</td>\n",
       "      <td>credit_card</td>\n",
       "      <td>1</td>\n",
       "      <td>65.71</td>\n",
       "    </tr>\n",
       "    <tr>\n",
       "      <th>3</th>\n",
       "      <td>ba78997921bbcdc1373bb41e913ab953</td>\n",
       "      <td>1</td>\n",
       "      <td>credit_card</td>\n",
       "      <td>8</td>\n",
       "      <td>107.78</td>\n",
       "    </tr>\n",
       "    <tr>\n",
       "      <th>4</th>\n",
       "      <td>42fdf880ba16b47b59251dd489d4441a</td>\n",
       "      <td>1</td>\n",
       "      <td>credit_card</td>\n",
       "      <td>2</td>\n",
       "      <td>128.45</td>\n",
       "    </tr>\n",
       "  </tbody>\n",
       "</table>\n",
       "</div>"
      ],
      "text/plain": [
       "                           order_id  payment_sequential payment_type  \\\n",
       "0  b81ef226f3fe1789b1e8b2acac839d17                   1  credit_card   \n",
       "1  a9810da82917af2d9aefd1278f1dcfa0                   1  credit_card   \n",
       "2  25e8ea4e93396b6fa0d3dd708e76c1bd                   1  credit_card   \n",
       "3  ba78997921bbcdc1373bb41e913ab953                   1  credit_card   \n",
       "4  42fdf880ba16b47b59251dd489d4441a                   1  credit_card   \n",
       "\n",
       "   payment_installments  payment_value  \n",
       "0                     8          99.33  \n",
       "1                     1          24.39  \n",
       "2                     1          65.71  \n",
       "3                     8         107.78  \n",
       "4                     2         128.45  "
      ]
     },
     "execution_count": 8,
     "metadata": {},
     "output_type": "execute_result"
    }
   ],
   "source": [
    "order_payments.head()"
   ]
  },
  {
   "cell_type": "code",
   "execution_count": 9,
   "id": "4d2a9752",
   "metadata": {},
   "outputs": [
    {
     "data": {
      "text/html": [
       "<div>\n",
       "<style scoped>\n",
       "    .dataframe tbody tr th:only-of-type {\n",
       "        vertical-align: middle;\n",
       "    }\n",
       "\n",
       "    .dataframe tbody tr th {\n",
       "        vertical-align: top;\n",
       "    }\n",
       "\n",
       "    .dataframe thead th {\n",
       "        text-align: right;\n",
       "    }\n",
       "</style>\n",
       "<table border=\"1\" class=\"dataframe\">\n",
       "  <thead>\n",
       "    <tr style=\"text-align: right;\">\n",
       "      <th></th>\n",
       "      <th>order_id</th>\n",
       "      <th>customer_id</th>\n",
       "      <th>order_status</th>\n",
       "      <th>order_purchase_timestamp</th>\n",
       "      <th>order_approved_at</th>\n",
       "      <th>order_delivered_carrier_date</th>\n",
       "      <th>order_delivered_customer_date</th>\n",
       "      <th>order_estimated_delivery_date</th>\n",
       "    </tr>\n",
       "  </thead>\n",
       "  <tbody>\n",
       "    <tr>\n",
       "      <th>0</th>\n",
       "      <td>e481f51cbdc54678b7cc49136f2d6af7</td>\n",
       "      <td>9ef432eb6251297304e76186b10a928d</td>\n",
       "      <td>delivered</td>\n",
       "      <td>2017-10-02 10:56:33</td>\n",
       "      <td>2017-10-02 11:07:15</td>\n",
       "      <td>2017-10-04 19:55:00</td>\n",
       "      <td>2017-10-10 21:25:13</td>\n",
       "      <td>2017-10-18 00:00:00</td>\n",
       "    </tr>\n",
       "    <tr>\n",
       "      <th>1</th>\n",
       "      <td>53cdb2fc8bc7dce0b6741e2150273451</td>\n",
       "      <td>b0830fb4747a6c6d20dea0b8c802d7ef</td>\n",
       "      <td>delivered</td>\n",
       "      <td>2018-07-24 20:41:37</td>\n",
       "      <td>2018-07-26 03:24:27</td>\n",
       "      <td>2018-07-26 14:31:00</td>\n",
       "      <td>2018-08-07 15:27:45</td>\n",
       "      <td>2018-08-13 00:00:00</td>\n",
       "    </tr>\n",
       "    <tr>\n",
       "      <th>2</th>\n",
       "      <td>47770eb9100c2d0c44946d9cf07ec65d</td>\n",
       "      <td>41ce2a54c0b03bf3443c3d931a367089</td>\n",
       "      <td>delivered</td>\n",
       "      <td>2018-08-08 08:38:49</td>\n",
       "      <td>2018-08-08 08:55:23</td>\n",
       "      <td>2018-08-08 13:50:00</td>\n",
       "      <td>2018-08-17 18:06:29</td>\n",
       "      <td>2018-09-04 00:00:00</td>\n",
       "    </tr>\n",
       "    <tr>\n",
       "      <th>3</th>\n",
       "      <td>949d5b44dbf5de918fe9c16f97b45f8a</td>\n",
       "      <td>f88197465ea7920adcdbec7375364d82</td>\n",
       "      <td>delivered</td>\n",
       "      <td>2017-11-18 19:28:06</td>\n",
       "      <td>2017-11-18 19:45:59</td>\n",
       "      <td>2017-11-22 13:39:59</td>\n",
       "      <td>2017-12-02 00:28:42</td>\n",
       "      <td>2017-12-15 00:00:00</td>\n",
       "    </tr>\n",
       "    <tr>\n",
       "      <th>4</th>\n",
       "      <td>ad21c59c0840e6cb83a9ceb5573f8159</td>\n",
       "      <td>8ab97904e6daea8866dbdbc4fb7aad2c</td>\n",
       "      <td>delivered</td>\n",
       "      <td>2018-02-13 21:18:39</td>\n",
       "      <td>2018-02-13 22:20:29</td>\n",
       "      <td>2018-02-14 19:46:34</td>\n",
       "      <td>2018-02-16 18:17:02</td>\n",
       "      <td>2018-02-26 00:00:00</td>\n",
       "    </tr>\n",
       "  </tbody>\n",
       "</table>\n",
       "</div>"
      ],
      "text/plain": [
       "                           order_id                       customer_id  \\\n",
       "0  e481f51cbdc54678b7cc49136f2d6af7  9ef432eb6251297304e76186b10a928d   \n",
       "1  53cdb2fc8bc7dce0b6741e2150273451  b0830fb4747a6c6d20dea0b8c802d7ef   \n",
       "2  47770eb9100c2d0c44946d9cf07ec65d  41ce2a54c0b03bf3443c3d931a367089   \n",
       "3  949d5b44dbf5de918fe9c16f97b45f8a  f88197465ea7920adcdbec7375364d82   \n",
       "4  ad21c59c0840e6cb83a9ceb5573f8159  8ab97904e6daea8866dbdbc4fb7aad2c   \n",
       "\n",
       "  order_status order_purchase_timestamp    order_approved_at  \\\n",
       "0    delivered      2017-10-02 10:56:33  2017-10-02 11:07:15   \n",
       "1    delivered      2018-07-24 20:41:37  2018-07-26 03:24:27   \n",
       "2    delivered      2018-08-08 08:38:49  2018-08-08 08:55:23   \n",
       "3    delivered      2017-11-18 19:28:06  2017-11-18 19:45:59   \n",
       "4    delivered      2018-02-13 21:18:39  2018-02-13 22:20:29   \n",
       "\n",
       "  order_delivered_carrier_date order_delivered_customer_date  \\\n",
       "0          2017-10-04 19:55:00           2017-10-10 21:25:13   \n",
       "1          2018-07-26 14:31:00           2018-08-07 15:27:45   \n",
       "2          2018-08-08 13:50:00           2018-08-17 18:06:29   \n",
       "3          2017-11-22 13:39:59           2017-12-02 00:28:42   \n",
       "4          2018-02-14 19:46:34           2018-02-16 18:17:02   \n",
       "\n",
       "  order_estimated_delivery_date  \n",
       "0           2017-10-18 00:00:00  \n",
       "1           2018-08-13 00:00:00  \n",
       "2           2018-09-04 00:00:00  \n",
       "3           2017-12-15 00:00:00  \n",
       "4           2018-02-26 00:00:00  "
      ]
     },
     "execution_count": 9,
     "metadata": {},
     "output_type": "execute_result"
    }
   ],
   "source": [
    "orders.head()"
   ]
  },
  {
   "cell_type": "code",
   "execution_count": 10,
   "id": "cef588e2",
   "metadata": {},
   "outputs": [
    {
     "data": {
      "text/html": [
       "<div>\n",
       "<style scoped>\n",
       "    .dataframe tbody tr th:only-of-type {\n",
       "        vertical-align: middle;\n",
       "    }\n",
       "\n",
       "    .dataframe tbody tr th {\n",
       "        vertical-align: top;\n",
       "    }\n",
       "\n",
       "    .dataframe thead th {\n",
       "        text-align: right;\n",
       "    }\n",
       "</style>\n",
       "<table border=\"1\" class=\"dataframe\">\n",
       "  <thead>\n",
       "    <tr style=\"text-align: right;\">\n",
       "      <th></th>\n",
       "      <th>product_id</th>\n",
       "      <th>product_category_name</th>\n",
       "      <th>product_name_lenght</th>\n",
       "      <th>product_description_lenght</th>\n",
       "      <th>product_photos_qty</th>\n",
       "      <th>product_weight_g</th>\n",
       "      <th>product_length_cm</th>\n",
       "      <th>product_height_cm</th>\n",
       "      <th>product_width_cm</th>\n",
       "    </tr>\n",
       "  </thead>\n",
       "  <tbody>\n",
       "    <tr>\n",
       "      <th>0</th>\n",
       "      <td>1e9e8ef04dbcff4541ed26657ea517e5</td>\n",
       "      <td>perfumaria</td>\n",
       "      <td>40.0</td>\n",
       "      <td>287.0</td>\n",
       "      <td>1.0</td>\n",
       "      <td>225.0</td>\n",
       "      <td>16.0</td>\n",
       "      <td>10.0</td>\n",
       "      <td>14.0</td>\n",
       "    </tr>\n",
       "    <tr>\n",
       "      <th>1</th>\n",
       "      <td>3aa071139cb16b67ca9e5dea641aaa2f</td>\n",
       "      <td>artes</td>\n",
       "      <td>44.0</td>\n",
       "      <td>276.0</td>\n",
       "      <td>1.0</td>\n",
       "      <td>1000.0</td>\n",
       "      <td>30.0</td>\n",
       "      <td>18.0</td>\n",
       "      <td>20.0</td>\n",
       "    </tr>\n",
       "    <tr>\n",
       "      <th>2</th>\n",
       "      <td>96bd76ec8810374ed1b65e291975717f</td>\n",
       "      <td>esporte_lazer</td>\n",
       "      <td>46.0</td>\n",
       "      <td>250.0</td>\n",
       "      <td>1.0</td>\n",
       "      <td>154.0</td>\n",
       "      <td>18.0</td>\n",
       "      <td>9.0</td>\n",
       "      <td>15.0</td>\n",
       "    </tr>\n",
       "    <tr>\n",
       "      <th>3</th>\n",
       "      <td>cef67bcfe19066a932b7673e239eb23d</td>\n",
       "      <td>bebes</td>\n",
       "      <td>27.0</td>\n",
       "      <td>261.0</td>\n",
       "      <td>1.0</td>\n",
       "      <td>371.0</td>\n",
       "      <td>26.0</td>\n",
       "      <td>4.0</td>\n",
       "      <td>26.0</td>\n",
       "    </tr>\n",
       "    <tr>\n",
       "      <th>4</th>\n",
       "      <td>9dc1a7de274444849c219cff195d0b71</td>\n",
       "      <td>utilidades_domesticas</td>\n",
       "      <td>37.0</td>\n",
       "      <td>402.0</td>\n",
       "      <td>4.0</td>\n",
       "      <td>625.0</td>\n",
       "      <td>20.0</td>\n",
       "      <td>17.0</td>\n",
       "      <td>13.0</td>\n",
       "    </tr>\n",
       "  </tbody>\n",
       "</table>\n",
       "</div>"
      ],
      "text/plain": [
       "                         product_id  product_category_name  \\\n",
       "0  1e9e8ef04dbcff4541ed26657ea517e5             perfumaria   \n",
       "1  3aa071139cb16b67ca9e5dea641aaa2f                  artes   \n",
       "2  96bd76ec8810374ed1b65e291975717f          esporte_lazer   \n",
       "3  cef67bcfe19066a932b7673e239eb23d                  bebes   \n",
       "4  9dc1a7de274444849c219cff195d0b71  utilidades_domesticas   \n",
       "\n",
       "   product_name_lenght  product_description_lenght  product_photos_qty  \\\n",
       "0                 40.0                       287.0                 1.0   \n",
       "1                 44.0                       276.0                 1.0   \n",
       "2                 46.0                       250.0                 1.0   \n",
       "3                 27.0                       261.0                 1.0   \n",
       "4                 37.0                       402.0                 4.0   \n",
       "\n",
       "   product_weight_g  product_length_cm  product_height_cm  product_width_cm  \n",
       "0             225.0               16.0               10.0              14.0  \n",
       "1            1000.0               30.0               18.0              20.0  \n",
       "2             154.0               18.0                9.0              15.0  \n",
       "3             371.0               26.0                4.0              26.0  \n",
       "4             625.0               20.0               17.0              13.0  "
      ]
     },
     "execution_count": 10,
     "metadata": {},
     "output_type": "execute_result"
    }
   ],
   "source": [
    "products.head()"
   ]
  },
  {
   "cell_type": "code",
   "execution_count": 11,
   "id": "eabfa2da",
   "metadata": {},
   "outputs": [
    {
     "data": {
      "text/html": [
       "<div>\n",
       "<style scoped>\n",
       "    .dataframe tbody tr th:only-of-type {\n",
       "        vertical-align: middle;\n",
       "    }\n",
       "\n",
       "    .dataframe tbody tr th {\n",
       "        vertical-align: top;\n",
       "    }\n",
       "\n",
       "    .dataframe thead th {\n",
       "        text-align: right;\n",
       "    }\n",
       "</style>\n",
       "<table border=\"1\" class=\"dataframe\">\n",
       "  <thead>\n",
       "    <tr style=\"text-align: right;\">\n",
       "      <th></th>\n",
       "      <th>seller_id</th>\n",
       "      <th>seller_zip_code_prefix</th>\n",
       "      <th>seller_city</th>\n",
       "      <th>seller_state</th>\n",
       "    </tr>\n",
       "  </thead>\n",
       "  <tbody>\n",
       "    <tr>\n",
       "      <th>0</th>\n",
       "      <td>3442f8959a84dea7ee197c632cb2df15</td>\n",
       "      <td>13023</td>\n",
       "      <td>campinas</td>\n",
       "      <td>SP</td>\n",
       "    </tr>\n",
       "    <tr>\n",
       "      <th>1</th>\n",
       "      <td>d1b65fc7debc3361ea86b5f14c68d2e2</td>\n",
       "      <td>13844</td>\n",
       "      <td>mogi guacu</td>\n",
       "      <td>SP</td>\n",
       "    </tr>\n",
       "    <tr>\n",
       "      <th>2</th>\n",
       "      <td>ce3ad9de960102d0677a81f5d0bb7b2d</td>\n",
       "      <td>20031</td>\n",
       "      <td>rio de janeiro</td>\n",
       "      <td>RJ</td>\n",
       "    </tr>\n",
       "    <tr>\n",
       "      <th>3</th>\n",
       "      <td>c0f3eea2e14555b6faeea3dd58c1b1c3</td>\n",
       "      <td>4195</td>\n",
       "      <td>sao paulo</td>\n",
       "      <td>SP</td>\n",
       "    </tr>\n",
       "    <tr>\n",
       "      <th>4</th>\n",
       "      <td>51a04a8a6bdcb23deccc82b0b80742cf</td>\n",
       "      <td>12914</td>\n",
       "      <td>braganca paulista</td>\n",
       "      <td>SP</td>\n",
       "    </tr>\n",
       "  </tbody>\n",
       "</table>\n",
       "</div>"
      ],
      "text/plain": [
       "                          seller_id  seller_zip_code_prefix  \\\n",
       "0  3442f8959a84dea7ee197c632cb2df15                   13023   \n",
       "1  d1b65fc7debc3361ea86b5f14c68d2e2                   13844   \n",
       "2  ce3ad9de960102d0677a81f5d0bb7b2d                   20031   \n",
       "3  c0f3eea2e14555b6faeea3dd58c1b1c3                    4195   \n",
       "4  51a04a8a6bdcb23deccc82b0b80742cf                   12914   \n",
       "\n",
       "         seller_city seller_state  \n",
       "0           campinas           SP  \n",
       "1         mogi guacu           SP  \n",
       "2     rio de janeiro           RJ  \n",
       "3          sao paulo           SP  \n",
       "4  braganca paulista           SP  "
      ]
     },
     "execution_count": 11,
     "metadata": {},
     "output_type": "execute_result"
    }
   ],
   "source": [
    "sellers.head()"
   ]
  },
  {
   "cell_type": "code",
   "execution_count": 12,
   "id": "2076f6a1",
   "metadata": {},
   "outputs": [
    {
     "data": {
      "text/html": [
       "<div>\n",
       "<style scoped>\n",
       "    .dataframe tbody tr th:only-of-type {\n",
       "        vertical-align: middle;\n",
       "    }\n",
       "\n",
       "    .dataframe tbody tr th {\n",
       "        vertical-align: top;\n",
       "    }\n",
       "\n",
       "    .dataframe thead th {\n",
       "        text-align: right;\n",
       "    }\n",
       "</style>\n",
       "<table border=\"1\" class=\"dataframe\">\n",
       "  <thead>\n",
       "    <tr style=\"text-align: right;\">\n",
       "      <th></th>\n",
       "      <th>product_category_name</th>\n",
       "      <th>product_category_name_english</th>\n",
       "    </tr>\n",
       "  </thead>\n",
       "  <tbody>\n",
       "    <tr>\n",
       "      <th>0</th>\n",
       "      <td>beleza_saude</td>\n",
       "      <td>health_beauty</td>\n",
       "    </tr>\n",
       "    <tr>\n",
       "      <th>1</th>\n",
       "      <td>informatica_acessorios</td>\n",
       "      <td>computers_accessories</td>\n",
       "    </tr>\n",
       "    <tr>\n",
       "      <th>2</th>\n",
       "      <td>automotivo</td>\n",
       "      <td>auto</td>\n",
       "    </tr>\n",
       "    <tr>\n",
       "      <th>3</th>\n",
       "      <td>cama_mesa_banho</td>\n",
       "      <td>bed_bath_table</td>\n",
       "    </tr>\n",
       "    <tr>\n",
       "      <th>4</th>\n",
       "      <td>moveis_decoracao</td>\n",
       "      <td>furniture_decor</td>\n",
       "    </tr>\n",
       "  </tbody>\n",
       "</table>\n",
       "</div>"
      ],
      "text/plain": [
       "    product_category_name product_category_name_english\n",
       "0            beleza_saude                 health_beauty\n",
       "1  informatica_acessorios         computers_accessories\n",
       "2              automotivo                          auto\n",
       "3         cama_mesa_banho                bed_bath_table\n",
       "4        moveis_decoracao               furniture_decor"
      ]
     },
     "execution_count": 12,
     "metadata": {},
     "output_type": "execute_result"
    }
   ],
   "source": [
    "product_category_name_translation.head()"
   ]
  },
  {
   "cell_type": "markdown",
   "id": "46713472",
   "metadata": {},
   "source": [
    "## Data Cleaning"
   ]
  },
  {
   "cell_type": "markdown",
   "metadata": {},
   "source": [
    "### Handling Missing Value"
   ]
  },
  {
   "cell_type": "code",
   "execution_count": 13,
   "id": "5094b694",
   "metadata": {},
   "outputs": [
    {
     "data": {
      "text/plain": [
       "customer_id                 0\n",
       "customer_unique_id          0\n",
       "customer_zip_code_prefix    0\n",
       "customer_city               0\n",
       "customer_state              0\n",
       "dtype: int64"
      ]
     },
     "execution_count": 13,
     "metadata": {},
     "output_type": "execute_result"
    }
   ],
   "source": [
    "customers.isnull().sum()"
   ]
  },
  {
   "cell_type": "code",
   "execution_count": 14,
   "id": "3edeaaaf",
   "metadata": {},
   "outputs": [
    {
     "data": {
      "text/plain": [
       "geolocation_zip_code_prefix    0\n",
       "geolocation_lat                0\n",
       "geolocation_lng                0\n",
       "geolocation_city               0\n",
       "geolocation_state              0\n",
       "dtype: int64"
      ]
     },
     "execution_count": 14,
     "metadata": {},
     "output_type": "execute_result"
    }
   ],
   "source": [
    "geoloc.isnull().sum()"
   ]
  },
  {
   "cell_type": "code",
   "execution_count": 15,
   "id": "f138fd46",
   "metadata": {
    "scrolled": false
   },
   "outputs": [
    {
     "data": {
      "text/plain": [
       "review_id                      0\n",
       "order_id                       0\n",
       "review_score                   0\n",
       "review_comment_title       87656\n",
       "review_comment_message     58247\n",
       "review_creation_date           0\n",
       "review_answer_timestamp        0\n",
       "dtype: int64"
      ]
     },
     "execution_count": 15,
     "metadata": {},
     "output_type": "execute_result"
    }
   ],
   "source": [
    "order_reviews.isnull().sum()"
   ]
  },
  {
   "cell_type": "code",
   "execution_count": 16,
   "id": "4c7aa475",
   "metadata": {},
   "outputs": [],
   "source": [
    "# Since these two have missing values\n",
    "del order_reviews['review_comment_title']\n",
    "del order_reviews['review_comment_message']"
   ]
  },
  {
   "cell_type": "code",
   "execution_count": 17,
   "id": "bc7cd156",
   "metadata": {},
   "outputs": [
    {
     "data": {
      "text/plain": [
       "review_id                  0\n",
       "order_id                   0\n",
       "review_score               0\n",
       "review_creation_date       0\n",
       "review_answer_timestamp    0\n",
       "dtype: int64"
      ]
     },
     "execution_count": 17,
     "metadata": {},
     "output_type": "execute_result"
    }
   ],
   "source": [
    "order_reviews.isnull().sum()"
   ]
  },
  {
   "cell_type": "code",
   "execution_count": 18,
   "id": "5fb42e45",
   "metadata": {},
   "outputs": [
    {
     "data": {
      "text/plain": [
       "order_id               0\n",
       "order_item_id          0\n",
       "product_id             0\n",
       "seller_id              0\n",
       "shipping_limit_date    0\n",
       "price                  0\n",
       "freight_value          0\n",
       "dtype: int64"
      ]
     },
     "execution_count": 18,
     "metadata": {},
     "output_type": "execute_result"
    }
   ],
   "source": [
    "order_items.isnull().sum()"
   ]
  },
  {
   "cell_type": "code",
   "execution_count": 19,
   "id": "1942b71a",
   "metadata": {},
   "outputs": [
    {
     "data": {
      "text/plain": [
       "order_id                0\n",
       "payment_sequential      0\n",
       "payment_type            0\n",
       "payment_installments    0\n",
       "payment_value           0\n",
       "dtype: int64"
      ]
     },
     "execution_count": 19,
     "metadata": {},
     "output_type": "execute_result"
    }
   ],
   "source": [
    "order_payments.isnull().sum()"
   ]
  },
  {
   "cell_type": "code",
   "execution_count": 20,
   "id": "d88a3f3c",
   "metadata": {},
   "outputs": [
    {
     "data": {
      "text/plain": [
       "order_id                            0\n",
       "customer_id                         0\n",
       "order_status                        0\n",
       "order_purchase_timestamp            0\n",
       "order_approved_at                 160\n",
       "order_delivered_carrier_date     1783\n",
       "order_delivered_customer_date    2965\n",
       "order_estimated_delivery_date       0\n",
       "dtype: int64"
      ]
     },
     "execution_count": 20,
     "metadata": {},
     "output_type": "execute_result"
    }
   ],
   "source": [
    "orders.isnull().sum()"
   ]
  },
  {
   "cell_type": "code",
   "execution_count": 21,
   "id": "6a534b9b",
   "metadata": {},
   "outputs": [
    {
     "data": {
      "text/plain": [
       "order_id                         0\n",
       "customer_id                      0\n",
       "order_status                     0\n",
       "order_purchase_timestamp         0\n",
       "order_estimated_delivery_date    0\n",
       "dtype: int64"
      ]
     },
     "execution_count": 21,
     "metadata": {},
     "output_type": "execute_result"
    }
   ],
   "source": [
    "del orders['order_approved_at']\n",
    "del orders['order_delivered_carrier_date']\n",
    "del orders['order_delivered_customer_date']\n",
    "orders.isnull().sum()"
   ]
  },
  {
   "cell_type": "code",
   "execution_count": 22,
   "id": "b7c32a6c",
   "metadata": {},
   "outputs": [
    {
     "data": {
      "text/plain": [
       "product_id                      0\n",
       "product_category_name         610\n",
       "product_name_lenght           610\n",
       "product_description_lenght    610\n",
       "product_photos_qty            610\n",
       "product_weight_g                2\n",
       "product_length_cm               2\n",
       "product_height_cm               2\n",
       "product_width_cm                2\n",
       "dtype: int64"
      ]
     },
     "execution_count": 22,
     "metadata": {},
     "output_type": "execute_result"
    }
   ],
   "source": [
    "products.isnull().sum()"
   ]
  },
  {
   "cell_type": "code",
   "execution_count": 23,
   "id": "24d2a289",
   "metadata": {},
   "outputs": [],
   "source": [
    "# Replacng missing categories with \"Unknown\"\n",
    "products['product_category_name'].replace(np.nan,'Unknown',inplace=True)"
   ]
  },
  {
   "cell_type": "code",
   "execution_count": 24,
   "id": "0a04a0c4",
   "metadata": {},
   "outputs": [],
   "source": [
    "# To only keep product_id and product_category_name columns\n",
    "products=products[['product_id','product_category_name']].copy()"
   ]
  },
  {
   "cell_type": "code",
   "execution_count": 25,
   "id": "c90c47dc",
   "metadata": {},
   "outputs": [
    {
     "data": {
      "text/plain": [
       "product_id               0\n",
       "product_category_name    0\n",
       "dtype: int64"
      ]
     },
     "execution_count": 25,
     "metadata": {},
     "output_type": "execute_result"
    }
   ],
   "source": [
    "products.isnull().sum()"
   ]
  },
  {
   "cell_type": "code",
   "execution_count": 26,
   "id": "2c7ab944",
   "metadata": {},
   "outputs": [
    {
     "data": {
      "text/plain": [
       "seller_id                 0\n",
       "seller_zip_code_prefix    0\n",
       "seller_city               0\n",
       "seller_state              0\n",
       "dtype: int64"
      ]
     },
     "execution_count": 26,
     "metadata": {},
     "output_type": "execute_result"
    }
   ],
   "source": [
    "sellers.isnull().sum()"
   ]
  },
  {
   "cell_type": "code",
   "execution_count": 27,
   "id": "349b669c",
   "metadata": {},
   "outputs": [
    {
     "data": {
      "text/plain": [
       "product_category_name            0\n",
       "product_category_name_english    0\n",
       "dtype: int64"
      ]
     },
     "execution_count": 27,
     "metadata": {},
     "output_type": "execute_result"
    }
   ],
   "source": [
    "product_category_name_translation.isnull().sum()"
   ]
  },
  {
   "cell_type": "markdown",
   "metadata": {},
   "source": [
    "### Managing Inconsistent Data"
   ]
  },
  {
   "cell_type": "code",
   "execution_count": 28,
   "metadata": {},
   "outputs": [],
   "source": [
    "order_payments['payment_value'] = order_payments['payment_value'].astype(float)"
   ]
  },
  {
   "cell_type": "markdown",
   "metadata": {},
   "source": [
    "## Data Preprocessing"
   ]
  },
  {
   "cell_type": "markdown",
   "metadata": {},
   "source": [
    "### String Manipulation"
   ]
  },
  {
   "cell_type": "code",
   "execution_count": 29,
   "metadata": {},
   "outputs": [
    {
     "data": {
      "text/html": [
       "<div>\n",
       "<style scoped>\n",
       "    .dataframe tbody tr th:only-of-type {\n",
       "        vertical-align: middle;\n",
       "    }\n",
       "\n",
       "    .dataframe tbody tr th {\n",
       "        vertical-align: top;\n",
       "    }\n",
       "\n",
       "    .dataframe thead th {\n",
       "        text-align: right;\n",
       "    }\n",
       "</style>\n",
       "<table border=\"1\" class=\"dataframe\">\n",
       "  <thead>\n",
       "    <tr style=\"text-align: right;\">\n",
       "      <th></th>\n",
       "      <th>customer_id</th>\n",
       "      <th>customer_unique_id</th>\n",
       "      <th>customer_zip_code_prefix</th>\n",
       "      <th>customer_city</th>\n",
       "      <th>customer_state</th>\n",
       "    </tr>\n",
       "  </thead>\n",
       "  <tbody>\n",
       "    <tr>\n",
       "      <th>0</th>\n",
       "      <td>06b8999e2fba1a1fbc88172c00ba8bc7</td>\n",
       "      <td>861eff4711a542e4b93843c6dd7febb0</td>\n",
       "      <td>14409</td>\n",
       "      <td>Franca</td>\n",
       "      <td>SP</td>\n",
       "    </tr>\n",
       "    <tr>\n",
       "      <th>1</th>\n",
       "      <td>18955e83d337fd6b2def6b18a428ac77</td>\n",
       "      <td>290c77bc529b7ac935b93aa66c333dc3</td>\n",
       "      <td>9790</td>\n",
       "      <td>Sao Bernardo Do Campo</td>\n",
       "      <td>SP</td>\n",
       "    </tr>\n",
       "    <tr>\n",
       "      <th>2</th>\n",
       "      <td>4e7b3e00288586ebd08712fdd0374a03</td>\n",
       "      <td>060e732b5b29e8181a18229c7b0b2b5e</td>\n",
       "      <td>1151</td>\n",
       "      <td>Sao Paulo</td>\n",
       "      <td>SP</td>\n",
       "    </tr>\n",
       "    <tr>\n",
       "      <th>3</th>\n",
       "      <td>b2b6027bc5c5109e529d4dc6358b12c3</td>\n",
       "      <td>259dac757896d24d7702b9acbbff3f3c</td>\n",
       "      <td>8775</td>\n",
       "      <td>Mogi Das Cruzes</td>\n",
       "      <td>SP</td>\n",
       "    </tr>\n",
       "    <tr>\n",
       "      <th>4</th>\n",
       "      <td>4f2d8ab171c80ec8364f7c12e35b23ad</td>\n",
       "      <td>345ecd01c38d18a9036ed96c73b8d066</td>\n",
       "      <td>13056</td>\n",
       "      <td>Campinas</td>\n",
       "      <td>SP</td>\n",
       "    </tr>\n",
       "  </tbody>\n",
       "</table>\n",
       "</div>"
      ],
      "text/plain": [
       "                        customer_id                customer_unique_id  \\\n",
       "0  06b8999e2fba1a1fbc88172c00ba8bc7  861eff4711a542e4b93843c6dd7febb0   \n",
       "1  18955e83d337fd6b2def6b18a428ac77  290c77bc529b7ac935b93aa66c333dc3   \n",
       "2  4e7b3e00288586ebd08712fdd0374a03  060e732b5b29e8181a18229c7b0b2b5e   \n",
       "3  b2b6027bc5c5109e529d4dc6358b12c3  259dac757896d24d7702b9acbbff3f3c   \n",
       "4  4f2d8ab171c80ec8364f7c12e35b23ad  345ecd01c38d18a9036ed96c73b8d066   \n",
       "\n",
       "   customer_zip_code_prefix          customer_city customer_state  \n",
       "0                     14409                 Franca             SP  \n",
       "1                      9790  Sao Bernardo Do Campo             SP  \n",
       "2                      1151              Sao Paulo             SP  \n",
       "3                      8775        Mogi Das Cruzes             SP  \n",
       "4                     13056               Campinas             SP  "
      ]
     },
     "execution_count": 29,
     "metadata": {},
     "output_type": "execute_result"
    }
   ],
   "source": [
    "customers['customer_city'] = customers['customer_city'].str.title()\n",
    "customers.head()"
   ]
  },
  {
   "cell_type": "markdown",
   "metadata": {},
   "source": [
    "### Discretisation"
   ]
  },
  {
   "cell_type": "code",
   "execution_count": 30,
   "metadata": {},
   "outputs": [
    {
     "data": {
      "text/html": [
       "<div>\n",
       "<style scoped>\n",
       "    .dataframe tbody tr th:only-of-type {\n",
       "        vertical-align: middle;\n",
       "    }\n",
       "\n",
       "    .dataframe tbody tr th {\n",
       "        vertical-align: top;\n",
       "    }\n",
       "\n",
       "    .dataframe thead th {\n",
       "        text-align: right;\n",
       "    }\n",
       "</style>\n",
       "<table border=\"1\" class=\"dataframe\">\n",
       "  <thead>\n",
       "    <tr style=\"text-align: right;\">\n",
       "      <th></th>\n",
       "      <th>review_id</th>\n",
       "      <th>order_id</th>\n",
       "      <th>review_score</th>\n",
       "      <th>review_creation_date</th>\n",
       "      <th>review_answer_timestamp</th>\n",
       "      <th>review_score_group</th>\n",
       "    </tr>\n",
       "  </thead>\n",
       "  <tbody>\n",
       "    <tr>\n",
       "      <th>0</th>\n",
       "      <td>7bc2406110b926393aa56f80a40eba40</td>\n",
       "      <td>73fc7af87114b39712e6da79b0a377eb</td>\n",
       "      <td>4</td>\n",
       "      <td>2018-01-18 00:00:00</td>\n",
       "      <td>2018-01-18 21:46:59</td>\n",
       "      <td>Good</td>\n",
       "    </tr>\n",
       "    <tr>\n",
       "      <th>1</th>\n",
       "      <td>80e641a11e56f04c1ad469d5645fdfde</td>\n",
       "      <td>a548910a1c6147796b98fdf73dbeba33</td>\n",
       "      <td>5</td>\n",
       "      <td>2018-03-10 00:00:00</td>\n",
       "      <td>2018-03-11 03:05:13</td>\n",
       "      <td>Good</td>\n",
       "    </tr>\n",
       "    <tr>\n",
       "      <th>2</th>\n",
       "      <td>228ce5500dc1d8e020d8d1322874b6f0</td>\n",
       "      <td>f9e4b658b201a9f2ecdecbb34bed034b</td>\n",
       "      <td>5</td>\n",
       "      <td>2018-02-17 00:00:00</td>\n",
       "      <td>2018-02-18 14:36:24</td>\n",
       "      <td>Good</td>\n",
       "    </tr>\n",
       "    <tr>\n",
       "      <th>3</th>\n",
       "      <td>e64fb393e7b32834bb789ff8bb30750e</td>\n",
       "      <td>658677c97b385a9be170737859d3511b</td>\n",
       "      <td>5</td>\n",
       "      <td>2017-04-21 00:00:00</td>\n",
       "      <td>2017-04-21 22:02:06</td>\n",
       "      <td>Good</td>\n",
       "    </tr>\n",
       "    <tr>\n",
       "      <th>4</th>\n",
       "      <td>f7c4243c7fe1938f181bec41a392bdeb</td>\n",
       "      <td>8e6bfb81e283fa7e4f11123a3fb894f1</td>\n",
       "      <td>5</td>\n",
       "      <td>2018-03-01 00:00:00</td>\n",
       "      <td>2018-03-02 10:26:53</td>\n",
       "      <td>Good</td>\n",
       "    </tr>\n",
       "    <tr>\n",
       "      <th>...</th>\n",
       "      <td>...</td>\n",
       "      <td>...</td>\n",
       "      <td>...</td>\n",
       "      <td>...</td>\n",
       "      <td>...</td>\n",
       "      <td>...</td>\n",
       "    </tr>\n",
       "    <tr>\n",
       "      <th>99219</th>\n",
       "      <td>574ed12dd733e5fa530cfd4bbf39d7c9</td>\n",
       "      <td>2a8c23fee101d4d5662fa670396eb8da</td>\n",
       "      <td>5</td>\n",
       "      <td>2018-07-07 00:00:00</td>\n",
       "      <td>2018-07-14 17:18:30</td>\n",
       "      <td>Good</td>\n",
       "    </tr>\n",
       "    <tr>\n",
       "      <th>99220</th>\n",
       "      <td>f3897127253a9592a73be9bdfdf4ed7a</td>\n",
       "      <td>22ec9f0669f784db00fa86d035cf8602</td>\n",
       "      <td>5</td>\n",
       "      <td>2017-12-09 00:00:00</td>\n",
       "      <td>2017-12-11 20:06:42</td>\n",
       "      <td>Good</td>\n",
       "    </tr>\n",
       "    <tr>\n",
       "      <th>99221</th>\n",
       "      <td>b3de70c89b1510c4cd3d0649fd302472</td>\n",
       "      <td>55d4004744368f5571d1f590031933e4</td>\n",
       "      <td>5</td>\n",
       "      <td>2018-03-22 00:00:00</td>\n",
       "      <td>2018-03-23 09:10:43</td>\n",
       "      <td>Good</td>\n",
       "    </tr>\n",
       "    <tr>\n",
       "      <th>99222</th>\n",
       "      <td>1adeb9d84d72fe4e337617733eb85149</td>\n",
       "      <td>7725825d039fc1f0ceb7635e3f7d9206</td>\n",
       "      <td>4</td>\n",
       "      <td>2018-07-01 00:00:00</td>\n",
       "      <td>2018-07-02 12:59:13</td>\n",
       "      <td>Good</td>\n",
       "    </tr>\n",
       "    <tr>\n",
       "      <th>99223</th>\n",
       "      <td>efe49f1d6f951dd88b51e6ccd4cc548f</td>\n",
       "      <td>90531360ecb1eec2a1fbb265a0db0508</td>\n",
       "      <td>1</td>\n",
       "      <td>2017-07-03 00:00:00</td>\n",
       "      <td>2017-07-03 21:01:49</td>\n",
       "      <td>Poor</td>\n",
       "    </tr>\n",
       "  </tbody>\n",
       "</table>\n",
       "<p>99224 rows × 6 columns</p>\n",
       "</div>"
      ],
      "text/plain": [
       "                              review_id                          order_id  \\\n",
       "0      7bc2406110b926393aa56f80a40eba40  73fc7af87114b39712e6da79b0a377eb   \n",
       "1      80e641a11e56f04c1ad469d5645fdfde  a548910a1c6147796b98fdf73dbeba33   \n",
       "2      228ce5500dc1d8e020d8d1322874b6f0  f9e4b658b201a9f2ecdecbb34bed034b   \n",
       "3      e64fb393e7b32834bb789ff8bb30750e  658677c97b385a9be170737859d3511b   \n",
       "4      f7c4243c7fe1938f181bec41a392bdeb  8e6bfb81e283fa7e4f11123a3fb894f1   \n",
       "...                                 ...                               ...   \n",
       "99219  574ed12dd733e5fa530cfd4bbf39d7c9  2a8c23fee101d4d5662fa670396eb8da   \n",
       "99220  f3897127253a9592a73be9bdfdf4ed7a  22ec9f0669f784db00fa86d035cf8602   \n",
       "99221  b3de70c89b1510c4cd3d0649fd302472  55d4004744368f5571d1f590031933e4   \n",
       "99222  1adeb9d84d72fe4e337617733eb85149  7725825d039fc1f0ceb7635e3f7d9206   \n",
       "99223  efe49f1d6f951dd88b51e6ccd4cc548f  90531360ecb1eec2a1fbb265a0db0508   \n",
       "\n",
       "       review_score review_creation_date review_answer_timestamp  \\\n",
       "0                 4  2018-01-18 00:00:00     2018-01-18 21:46:59   \n",
       "1                 5  2018-03-10 00:00:00     2018-03-11 03:05:13   \n",
       "2                 5  2018-02-17 00:00:00     2018-02-18 14:36:24   \n",
       "3                 5  2017-04-21 00:00:00     2017-04-21 22:02:06   \n",
       "4                 5  2018-03-01 00:00:00     2018-03-02 10:26:53   \n",
       "...             ...                  ...                     ...   \n",
       "99219             5  2018-07-07 00:00:00     2018-07-14 17:18:30   \n",
       "99220             5  2017-12-09 00:00:00     2017-12-11 20:06:42   \n",
       "99221             5  2018-03-22 00:00:00     2018-03-23 09:10:43   \n",
       "99222             4  2018-07-01 00:00:00     2018-07-02 12:59:13   \n",
       "99223             1  2017-07-03 00:00:00     2017-07-03 21:01:49   \n",
       "\n",
       "      review_score_group  \n",
       "0                   Good  \n",
       "1                   Good  \n",
       "2                   Good  \n",
       "3                   Good  \n",
       "4                   Good  \n",
       "...                  ...  \n",
       "99219               Good  \n",
       "99220               Good  \n",
       "99221               Good  \n",
       "99222               Good  \n",
       "99223               Poor  \n",
       "\n",
       "[99224 rows x 6 columns]"
      ]
     },
     "execution_count": 30,
     "metadata": {},
     "output_type": "execute_result"
    }
   ],
   "source": [
    "order_reviews_bin = [1,2,3,6]\n",
    "order_reviews_label = ['Poor','Average','Good']\n",
    "order_reviews['review_score_group'] = pd.cut(order_reviews['review_score'],bins=order_reviews_bin, labels=order_reviews_label, right=False)\n",
    "\n",
    "order_reviews"
   ]
  },
  {
   "cell_type": "markdown",
   "id": "98a84c3b",
   "metadata": {},
   "source": [
    "## Data Analysis And Visualization\n",
    "1. Histogram for customer review\n",
    "2. Customer reviews grouped by city (Line Graph)\n",
    "3. Best reviewed product analysis\n",
    "5. Worst reviewed product analysis\n",
    "4. Seller with highest product reviews\n",
    "8. Seller with lowest product reviews\n",
    "6. Payment method used by most satisfied customers\n",
    "7. Freight value paid by most satisfied customers\n",
    "9. Percentage of seller who satisfied most customers (Sellers whose products have 4 or above stars rating)\n",
    "10. Percentage of customers most satisfied (Satisfaction = Review score of 4 or more)"
   ]
  },
  {
   "cell_type": "markdown",
   "id": "9583cf15",
   "metadata": {},
   "source": [
    "### 1. Histogram for customer review"
   ]
  },
  {
   "cell_type": "code",
   "execution_count": 31,
   "id": "5f03571b",
   "metadata": {},
   "outputs": [
    {
     "data": {
      "text/plain": [
       "(array([11424.,     0.,  3151.,     0.,     0.,  8179.,     0., 19142.,\n",
       "            0., 57328.]),\n",
       " array([1. , 1.4, 1.8, 2.2, 2.6, 3. , 3.4, 3.8, 4.2, 4.6, 5. ]),\n",
       " <BarContainer object of 10 artists>)"
      ]
     },
     "execution_count": 31,
     "metadata": {},
     "output_type": "execute_result"
    },
    {
     "data": {
      "image/png": "[encoded data removed]",
      "text/plain": [
       "<Figure size 640x480 with 1 Axes>"
      ]
     },
     "metadata": {},
     "output_type": "display_data"
    }
   ],
   "source": [
    "plt.hist(order_reviews['review_score'])"
   ]
  },
  {
   "cell_type": "markdown",
   "id": "f34cf0ad",
   "metadata": {},
   "source": [
    "### 2. Customer reviews grouped by city (Line Graph)"
   ]
  },
  {
   "cell_type": "code",
   "execution_count": 32,
   "id": "9bcd6dd6",
   "metadata": {},
   "outputs": [],
   "source": [
    "payment_review=pd.merge(order_reviews,orders,on='order_id')\n",
    "payment_review=pd.merge(payment_review,order_payments,on='order_id')"
   ]
  },
  {
   "cell_type": "code",
   "execution_count": 33,
   "id": "61b405af",
   "metadata": {},
   "outputs": [
    {
     "data": {
      "text/html": [
       "<div>\n",
       "<style scoped>\n",
       "    .dataframe tbody tr th:only-of-type {\n",
       "        vertical-align: middle;\n",
       "    }\n",
       "\n",
       "    .dataframe tbody tr th {\n",
       "        vertical-align: top;\n",
       "    }\n",
       "\n",
       "    .dataframe thead th {\n",
       "        text-align: right;\n",
       "    }\n",
       "</style>\n",
       "<table border=\"1\" class=\"dataframe\">\n",
       "  <thead>\n",
       "    <tr style=\"text-align: right;\">\n",
       "      <th></th>\n",
       "      <th>review_id</th>\n",
       "      <th>order_id</th>\n",
       "      <th>review_score</th>\n",
       "      <th>review_creation_date</th>\n",
       "      <th>review_answer_timestamp</th>\n",
       "      <th>review_score_group</th>\n",
       "      <th>customer_id</th>\n",
       "      <th>order_status</th>\n",
       "      <th>order_purchase_timestamp</th>\n",
       "      <th>order_estimated_delivery_date</th>\n",
       "      <th>payment_sequential</th>\n",
       "      <th>payment_type</th>\n",
       "      <th>payment_installments</th>\n",
       "      <th>payment_value</th>\n",
       "    </tr>\n",
       "  </thead>\n",
       "  <tbody>\n",
       "    <tr>\n",
       "      <th>0</th>\n",
       "      <td>7bc2406110b926393aa56f80a40eba40</td>\n",
       "      <td>73fc7af87114b39712e6da79b0a377eb</td>\n",
       "      <td>4</td>\n",
       "      <td>2018-01-18 00:00:00</td>\n",
       "      <td>2018-01-18 21:46:59</td>\n",
       "      <td>Good</td>\n",
       "      <td>41dcb106f807e993532d446263290104</td>\n",
       "      <td>delivered</td>\n",
       "      <td>2018-01-11 15:30:49</td>\n",
       "      <td>2018-02-02 00:00:00</td>\n",
       "      <td>1</td>\n",
       "      <td>credit_card</td>\n",
       "      <td>8</td>\n",
       "      <td>397.26</td>\n",
       "    </tr>\n",
       "    <tr>\n",
       "      <th>1</th>\n",
       "      <td>80e641a11e56f04c1ad469d5645fdfde</td>\n",
       "      <td>a548910a1c6147796b98fdf73dbeba33</td>\n",
       "      <td>5</td>\n",
       "      <td>2018-03-10 00:00:00</td>\n",
       "      <td>2018-03-11 03:05:13</td>\n",
       "      <td>Good</td>\n",
       "      <td>8a2e7ef9053dea531e4dc76bd6d853e6</td>\n",
       "      <td>delivered</td>\n",
       "      <td>2018-02-28 12:25:19</td>\n",
       "      <td>2018-03-14 00:00:00</td>\n",
       "      <td>1</td>\n",
       "      <td>credit_card</td>\n",
       "      <td>1</td>\n",
       "      <td>88.09</td>\n",
       "    </tr>\n",
       "    <tr>\n",
       "      <th>2</th>\n",
       "      <td>228ce5500dc1d8e020d8d1322874b6f0</td>\n",
       "      <td>f9e4b658b201a9f2ecdecbb34bed034b</td>\n",
       "      <td>5</td>\n",
       "      <td>2018-02-17 00:00:00</td>\n",
       "      <td>2018-02-18 14:36:24</td>\n",
       "      <td>Good</td>\n",
       "      <td>e226dfed6544df5b7b87a48208690feb</td>\n",
       "      <td>delivered</td>\n",
       "      <td>2018-02-03 09:56:22</td>\n",
       "      <td>2018-03-09 00:00:00</td>\n",
       "      <td>1</td>\n",
       "      <td>credit_card</td>\n",
       "      <td>1</td>\n",
       "      <td>194.12</td>\n",
       "    </tr>\n",
       "    <tr>\n",
       "      <th>3</th>\n",
       "      <td>e64fb393e7b32834bb789ff8bb30750e</td>\n",
       "      <td>658677c97b385a9be170737859d3511b</td>\n",
       "      <td>5</td>\n",
       "      <td>2017-04-21 00:00:00</td>\n",
       "      <td>2017-04-21 22:02:06</td>\n",
       "      <td>Good</td>\n",
       "      <td>de6dff97e5f1ba84a3cd9a3bc97df5f6</td>\n",
       "      <td>delivered</td>\n",
       "      <td>2017-04-09 17:41:13</td>\n",
       "      <td>2017-05-10 00:00:00</td>\n",
       "      <td>1</td>\n",
       "      <td>credit_card</td>\n",
       "      <td>1</td>\n",
       "      <td>222.84</td>\n",
       "    </tr>\n",
       "    <tr>\n",
       "      <th>4</th>\n",
       "      <td>f7c4243c7fe1938f181bec41a392bdeb</td>\n",
       "      <td>8e6bfb81e283fa7e4f11123a3fb894f1</td>\n",
       "      <td>5</td>\n",
       "      <td>2018-03-01 00:00:00</td>\n",
       "      <td>2018-03-02 10:26:53</td>\n",
       "      <td>Good</td>\n",
       "      <td>5986b333ca0d44534a156a52a8e33a83</td>\n",
       "      <td>delivered</td>\n",
       "      <td>2018-02-10 10:59:03</td>\n",
       "      <td>2018-03-09 00:00:00</td>\n",
       "      <td>1</td>\n",
       "      <td>credit_card</td>\n",
       "      <td>10</td>\n",
       "      <td>1333.25</td>\n",
       "    </tr>\n",
       "  </tbody>\n",
       "</table>\n",
       "</div>"
      ],
      "text/plain": [
       "                          review_id                          order_id  \\\n",
       "0  7bc2406110b926393aa56f80a40eba40  73fc7af87114b39712e6da79b0a377eb   \n",
       "1  80e641a11e56f04c1ad469d5645fdfde  a548910a1c6147796b98fdf73dbeba33   \n",
       "2  228ce5500dc1d8e020d8d1322874b6f0  f9e4b658b201a9f2ecdecbb34bed034b   \n",
       "3  e64fb393e7b32834bb789ff8bb30750e  658677c97b385a9be170737859d3511b   \n",
       "4  f7c4243c7fe1938f181bec41a392bdeb  8e6bfb81e283fa7e4f11123a3fb894f1   \n",
       "\n",
       "   review_score review_creation_date review_answer_timestamp  \\\n",
       "0             4  2018-01-18 00:00:00     2018-01-18 21:46:59   \n",
       "1             5  2018-03-10 00:00:00     2018-03-11 03:05:13   \n",
       "2             5  2018-02-17 00:00:00     2018-02-18 14:36:24   \n",
       "3             5  2017-04-21 00:00:00     2017-04-21 22:02:06   \n",
       "4             5  2018-03-01 00:00:00     2018-03-02 10:26:53   \n",
       "\n",
       "  review_score_group                       customer_id order_status  \\\n",
       "0               Good  41dcb106f807e993532d446263290104    delivered   \n",
       "1               Good  8a2e7ef9053dea531e4dc76bd6d853e6    delivered   \n",
       "2               Good  e226dfed6544df5b7b87a48208690feb    delivered   \n",
       "3               Good  de6dff97e5f1ba84a3cd9a3bc97df5f6    delivered   \n",
       "4               Good  5986b333ca0d44534a156a52a8e33a83    delivered   \n",
       "\n",
       "  order_purchase_timestamp order_estimated_delivery_date  payment_sequential  \\\n",
       "0      2018-01-11 15:30:49           2018-02-02 00:00:00                   1   \n",
       "1      2018-02-28 12:25:19           2018-03-14 00:00:00                   1   \n",
       "2      2018-02-03 09:56:22           2018-03-09 00:00:00                   1   \n",
       "3      2017-04-09 17:41:13           2017-05-10 00:00:00                   1   \n",
       "4      2018-02-10 10:59:03           2018-03-09 00:00:00                   1   \n",
       "\n",
       "  payment_type  payment_installments  payment_value  \n",
       "0  credit_card                     8         397.26  \n",
       "1  credit_card                     1          88.09  \n",
       "2  credit_card                     1         194.12  \n",
       "3  credit_card                     1         222.84  \n",
       "4  credit_card                    10        1333.25  "
      ]
     },
     "execution_count": 33,
     "metadata": {},
     "output_type": "execute_result"
    }
   ],
   "source": [
    "payment_review.head()"
   ]
  },
  {
   "cell_type": "code",
   "execution_count": 34,
   "id": "8fb46137",
   "metadata": {},
   "outputs": [],
   "source": [
    "grp=payment_review['review_score'].groupby(pd.cut(payment_review['payment_value'],1000))"
   ]
  },
  {
   "cell_type": "code",
   "execution_count": 36,
   "id": "bcc4d551",
   "metadata": {},
   "outputs": [
    {
     "data": {
      "image/png": "[encoded data removed]",
      "text/plain": [
       "<Figure size 640x480 with 1 Axes>"
      ]
     },
     "metadata": {},
     "output_type": "display_data"
    }
   ],
   "source": [
    "x=[]\n",
    "y=[]\n",
    "    \n",
    "for label,member in grp:\n",
    "    try:\n",
    "        y.append(member.value_counts().idxmax())\n",
    "        x.append(label.mid)\n",
    "    except :\n",
    "        pass\n",
    "    \n",
    "plt.scatter(x,y)\n",
    "plt.show()\n",
    "    "
   ]
  },
  {
   "cell_type": "markdown",
   "metadata": {},
   "source": [
    "### 3. Best reviewed product analysis"
   ]
  },
  {
   "cell_type": "code",
   "execution_count": null,
   "metadata": {},
   "outputs": [],
   "source": []
  },
  {
   "cell_type": "markdown",
   "metadata": {},
   "source": [
    "### 4. Worst reviewed product analysis"
   ]
  },
  {
   "cell_type": "code",
   "execution_count": null,
   "metadata": {},
   "outputs": [],
   "source": []
  },
  {
   "cell_type": "markdown",
   "metadata": {},
   "source": [
    "### 5. Seller with highest product reviews"
   ]
  },
  {
   "cell_type": "code",
   "execution_count": null,
   "metadata": {},
   "outputs": [],
   "source": []
  },
  {
   "cell_type": "markdown",
   "metadata": {},
   "source": [
    "### 6. Seller with lowest product reviews"
   ]
  },
  {
   "cell_type": "code",
   "execution_count": null,
   "metadata": {},
   "outputs": [],
   "source": []
  },
  {
   "cell_type": "markdown",
   "metadata": {},
   "source": [
    "### 7. Payment method used by most satisfied customers"
   ]
  },
  {
   "cell_type": "code",
   "execution_count": null,
   "metadata": {},
   "outputs": [],
   "source": []
  },
  {
   "cell_type": "markdown",
   "metadata": {},
   "source": [
    "### 8. Freight value paid by most satisfied customers"
   ]
  },
  {
   "cell_type": "code",
   "execution_count": null,
   "metadata": {},
   "outputs": [],
   "source": []
  },
  {
   "cell_type": "markdown",
   "metadata": {},
   "source": [
    "### 9. Percentage of seller who satisfied most customers (Sellers whose products have 4 or above stars rating)"
   ]
  },
  {
   "cell_type": "code",
   "execution_count": 168,
   "metadata": {},
   "outputs": [
    {
     "name": "stdout",
     "output_type": "stream",
     "text": [
      "Hence, 80.94% are satisfactory sellers receiving 4 or more as review score.\n"
     ]
    }
   ],
   "source": [
    "grp = pd.merge(order_reviews,orders,on='order_id')\n",
    "grp = pd.merge(grp,order_items,on='order_id')\n",
    "grp = pd.merge(grp,sellers,on='seller_id')\n",
    "grp = grp[['review_score','seller_id']]\n",
    "grp = grp.groupby('seller_id').mean().round().reset_index()\n",
    "grp = grp.groupby('review_score').count().reset_index()\n",
    "total_sellers = sellers['seller_id'].unique().size\n",
    "satisfactory_sellers = grp['seller_id'].where(grp['review_score']>3).sum()\n",
    "percentage_satisfactory_sellers = (satisfactory_sellers/total_sellers)*100\n",
    "print(f\"Hence, {round(percentage_satisfactory_sellers,2)}% are satisfactory sellers receiving 4 or more as review score.\")"
   ]
  },
  {
   "cell_type": "code",
   "execution_count": 169,
   "metadata": {},
   "outputs": [
    {
     "data": {
      "image/png": "[encoded data removed]",
      "text/plain": [
       "<Figure size 640x480 with 1 Axes>"
      ]
     },
     "metadata": {},
     "output_type": "display_data"
    }
   ],
   "source": [
    "x = grp.review_score\n",
    "y = grp.seller_id\n",
    "plt.bar(x,y, color=[('g' if i>3 else 'r') for i in x])\n",
    "plt.xlabel('Review Score')\n",
    "plt.ylabel('Number of Sellers')\n",
    "plt.show()"
   ]
  },
  {
   "cell_type": "markdown",
   "metadata": {},
   "source": [
    "### 10. Percentage of customers satisfied (Satisfaction = Review score of 4 or more)"
   ]
  },
  {
   "cell_type": "code",
   "execution_count": 65,
   "metadata": {},
   "outputs": [
    {
     "name": "stdout",
     "output_type": "stream",
     "text": [
      "Hence, 77.07% of customers are satisfied with there orders\n"
     ]
    }
   ],
   "source": [
    "customer_reviews = pd.merge(orders, order_reviews, on='order_id')\n",
    "customer_reviews['review_score']\n",
    "total_reviews = order_reviews.review_score.count()\n",
    "satisfied_reviews = order_reviews.review_score.where(lambda s: s>=4).count()\n",
    "percentage_satisfied_customers = (satisfied_reviews/total_reviews)*100\n",
    "print(f\"Hence, {round(percentage_satisfied_customers,2)}% of customers are satisfied with there orders.\")"
   ]
  },
  {
   "cell_type": "markdown",
   "metadata": {},
   "source": [
    "---\n",
    "\n",
    "\n",
    "\n",
    "\n",
    "\n",
    "\n",
    "\n",
    "---"
   ]
  },
  {
   "cell_type": "markdown",
   "id": "1fe930af",
   "metadata": {},
   "source": [
    "### Customer city to review analysis"
   ]
  },
  {
   "cell_type": "code",
   "execution_count": null,
   "id": "4fe4572f",
   "metadata": {},
   "outputs": [],
   "source": [
    "cus_review=pd.merge(order_reviews,orders,on='order_id')\n",
    "cus_review=pd.merge(cus_review,customers,on='customer_id')"
   ]
  },
  {
   "cell_type": "code",
   "execution_count": null,
   "id": "aa33ccfe",
   "metadata": {},
   "outputs": [],
   "source": [
    "grp=cus_review['review_score'].groupby(cus_review['customer_state'])"
   ]
  },
  {
   "cell_type": "code",
   "execution_count": null,
   "id": "6c5724b6",
   "metadata": {},
   "outputs": [
    {
     "data": {
      "image/png": "[encoded data removed]",
      "text/plain": [
       "<Figure size 640x480 with 1 Axes>"
      ]
     },
     "metadata": {},
     "output_type": "display_data"
    }
   ],
   "source": [
    "x=[]\n",
    "y=[]\n",
    "for label,member in grp:\n",
    "    x.append(label)\n",
    "    \n",
    "    y.append((member.value_counts()*member.value_counts().index).sum()/member.value_counts().sum())\n",
    "\n",
    "    \n",
    "plt.scatter(x,y)\n",
    "plt.plot(x,y)\n",
    "plt.show()"
   ]
  },
  {
   "cell_type": "markdown",
   "id": "3c7f54d4",
   "metadata": {},
   "source": [
    "### Low score Seller"
   ]
  },
  {
   "cell_type": "code",
   "execution_count": null,
   "id": "919d970a",
   "metadata": {},
   "outputs": [],
   "source": [
    "seller_review=pd.merge(order_reviews,orders,on='order_id')\n",
    "seller_review=pd.merge(seller_review,order_items,on='order_id')\n",
    "seller_review=pd.merge(seller_review,sellers,on='seller_id')"
   ]
  },
  {
   "cell_type": "code",
   "execution_count": null,
   "id": "2d61863e",
   "metadata": {},
   "outputs": [
    {
     "data": {
      "text/html": [
       "<div>\n",
       "<style scoped>\n",
       "    .dataframe tbody tr th:only-of-type {\n",
       "        vertical-align: middle;\n",
       "    }\n",
       "\n",
       "    .dataframe tbody tr th {\n",
       "        vertical-align: top;\n",
       "    }\n",
       "\n",
       "    .dataframe thead th {\n",
       "        text-align: right;\n",
       "    }\n",
       "</style>\n",
       "<table border=\"1\" class=\"dataframe\">\n",
       "  <thead>\n",
       "    <tr style=\"text-align: right;\">\n",
       "      <th></th>\n",
       "      <th>review_id</th>\n",
       "      <th>order_id</th>\n",
       "      <th>review_score</th>\n",
       "      <th>review_creation_date</th>\n",
       "      <th>review_answer_timestamp</th>\n",
       "      <th>customer_id</th>\n",
       "      <th>order_status</th>\n",
       "      <th>order_purchase_timestamp</th>\n",
       "      <th>order_estimated_delivery_date</th>\n",
       "      <th>order_item_id</th>\n",
       "      <th>product_id</th>\n",
       "      <th>seller_id</th>\n",
       "      <th>shipping_limit_date</th>\n",
       "      <th>price</th>\n",
       "      <th>freight_value</th>\n",
       "      <th>seller_zip_code_prefix</th>\n",
       "      <th>seller_city</th>\n",
       "      <th>seller_state</th>\n",
       "    </tr>\n",
       "  </thead>\n",
       "  <tbody>\n",
       "    <tr>\n",
       "      <th>0</th>\n",
       "      <td>7bc2406110b926393aa56f80a40eba40</td>\n",
       "      <td>73fc7af87114b39712e6da79b0a377eb</td>\n",
       "      <td>4</td>\n",
       "      <td>2018-01-18 00:00:00</td>\n",
       "      <td>2018-01-18 21:46:59</td>\n",
       "      <td>41dcb106f807e993532d446263290104</td>\n",
       "      <td>delivered</td>\n",
       "      <td>2018-01-11 15:30:49</td>\n",
       "      <td>2018-02-02 00:00:00</td>\n",
       "      <td>1</td>\n",
       "      <td>fd25ab760bfbba13c198fa3b4f1a0cd3</td>\n",
       "      <td>6d803cb79cc31c41c4c789a75933b3c7</td>\n",
       "      <td>2018-01-18 15:47:59</td>\n",
       "      <td>185.0</td>\n",
       "      <td>13.63</td>\n",
       "      <td>14600</td>\n",
       "      <td>sao joaquim da barra</td>\n",
       "      <td>SP</td>\n",
       "    </tr>\n",
       "    <tr>\n",
       "      <th>1</th>\n",
       "      <td>7bc2406110b926393aa56f80a40eba40</td>\n",
       "      <td>73fc7af87114b39712e6da79b0a377eb</td>\n",
       "      <td>4</td>\n",
       "      <td>2018-01-18 00:00:00</td>\n",
       "      <td>2018-01-18 21:46:59</td>\n",
       "      <td>41dcb106f807e993532d446263290104</td>\n",
       "      <td>delivered</td>\n",
       "      <td>2018-01-11 15:30:49</td>\n",
       "      <td>2018-02-02 00:00:00</td>\n",
       "      <td>2</td>\n",
       "      <td>fd25ab760bfbba13c198fa3b4f1a0cd3</td>\n",
       "      <td>6d803cb79cc31c41c4c789a75933b3c7</td>\n",
       "      <td>2018-01-18 15:47:59</td>\n",
       "      <td>185.0</td>\n",
       "      <td>13.63</td>\n",
       "      <td>14600</td>\n",
       "      <td>sao joaquim da barra</td>\n",
       "      <td>SP</td>\n",
       "    </tr>\n",
       "    <tr>\n",
       "      <th>2</th>\n",
       "      <td>5fdb2ed7aa0f1b1c9642175b302e38af</td>\n",
       "      <td>b0bc656fed47584c160f8cff2d7b8bbd</td>\n",
       "      <td>5</td>\n",
       "      <td>2018-03-17 00:00:00</td>\n",
       "      <td>2018-03-17 17:36:27</td>\n",
       "      <td>f4ad1c9eb0bed4469cbe0ff8f47bf634</td>\n",
       "      <td>delivered</td>\n",
       "      <td>2018-02-27 13:56:12</td>\n",
       "      <td>2018-03-23 00:00:00</td>\n",
       "      <td>1</td>\n",
       "      <td>1acb18fc869c5489d5f76abcd681165e</td>\n",
       "      <td>6d803cb79cc31c41c4c789a75933b3c7</td>\n",
       "      <td>2018-03-06 14:10:22</td>\n",
       "      <td>135.0</td>\n",
       "      <td>18.20</td>\n",
       "      <td>14600</td>\n",
       "      <td>sao joaquim da barra</td>\n",
       "      <td>SP</td>\n",
       "    </tr>\n",
       "    <tr>\n",
       "      <th>3</th>\n",
       "      <td>5fdb2ed7aa0f1b1c9642175b302e38af</td>\n",
       "      <td>b0bc656fed47584c160f8cff2d7b8bbd</td>\n",
       "      <td>5</td>\n",
       "      <td>2018-03-17 00:00:00</td>\n",
       "      <td>2018-03-17 17:36:27</td>\n",
       "      <td>f4ad1c9eb0bed4469cbe0ff8f47bf634</td>\n",
       "      <td>delivered</td>\n",
       "      <td>2018-02-27 13:56:12</td>\n",
       "      <td>2018-03-23 00:00:00</td>\n",
       "      <td>2</td>\n",
       "      <td>1acb18fc869c5489d5f76abcd681165e</td>\n",
       "      <td>6d803cb79cc31c41c4c789a75933b3c7</td>\n",
       "      <td>2018-03-06 14:10:22</td>\n",
       "      <td>135.0</td>\n",
       "      <td>18.20</td>\n",
       "      <td>14600</td>\n",
       "      <td>sao joaquim da barra</td>\n",
       "      <td>SP</td>\n",
       "    </tr>\n",
       "    <tr>\n",
       "      <th>4</th>\n",
       "      <td>a085ad47c649d76e19a93be48169ef41</td>\n",
       "      <td>52b39f7d5f670b983cae0ae2607bb1bc</td>\n",
       "      <td>5</td>\n",
       "      <td>2017-08-02 00:00:00</td>\n",
       "      <td>2017-08-05 03:19:43</td>\n",
       "      <td>a03a696301e1946f58f689501c6dc81f</td>\n",
       "      <td>delivered</td>\n",
       "      <td>2017-07-26 21:15:04</td>\n",
       "      <td>2017-08-16 00:00:00</td>\n",
       "      <td>1</td>\n",
       "      <td>45faac1ea8c173bb8c3e6cf23f5aac4e</td>\n",
       "      <td>6d803cb79cc31c41c4c789a75933b3c7</td>\n",
       "      <td>2017-08-02 21:25:25</td>\n",
       "      <td>39.9</td>\n",
       "      <td>12.69</td>\n",
       "      <td>14600</td>\n",
       "      <td>sao joaquim da barra</td>\n",
       "      <td>SP</td>\n",
       "    </tr>\n",
       "  </tbody>\n",
       "</table>\n",
       "</div>"
      ],
      "text/plain": [
       "                          review_id                          order_id  \\\n",
       "0  7bc2406110b926393aa56f80a40eba40  73fc7af87114b39712e6da79b0a377eb   \n",
       "1  7bc2406110b926393aa56f80a40eba40  73fc7af87114b39712e6da79b0a377eb   \n",
       "2  5fdb2ed7aa0f1b1c9642175b302e38af  b0bc656fed47584c160f8cff2d7b8bbd   \n",
       "3  5fdb2ed7aa0f1b1c9642175b302e38af  b0bc656fed47584c160f8cff2d7b8bbd   \n",
       "4  a085ad47c649d76e19a93be48169ef41  52b39f7d5f670b983cae0ae2607bb1bc   \n",
       "\n",
       "   review_score review_creation_date review_answer_timestamp  \\\n",
       "0             4  2018-01-18 00:00:00     2018-01-18 21:46:59   \n",
       "1             4  2018-01-18 00:00:00     2018-01-18 21:46:59   \n",
       "2             5  2018-03-17 00:00:00     2018-03-17 17:36:27   \n",
       "3             5  2018-03-17 00:00:00     2018-03-17 17:36:27   \n",
       "4             5  2017-08-02 00:00:00     2017-08-05 03:19:43   \n",
       "\n",
       "                        customer_id order_status order_purchase_timestamp  \\\n",
       "0  41dcb106f807e993532d446263290104    delivered      2018-01-11 15:30:49   \n",
       "1  41dcb106f807e993532d446263290104    delivered      2018-01-11 15:30:49   \n",
       "2  f4ad1c9eb0bed4469cbe0ff8f47bf634    delivered      2018-02-27 13:56:12   \n",
       "3  f4ad1c9eb0bed4469cbe0ff8f47bf634    delivered      2018-02-27 13:56:12   \n",
       "4  a03a696301e1946f58f689501c6dc81f    delivered      2017-07-26 21:15:04   \n",
       "\n",
       "  order_estimated_delivery_date  order_item_id  \\\n",
       "0           2018-02-02 00:00:00              1   \n",
       "1           2018-02-02 00:00:00              2   \n",
       "2           2018-03-23 00:00:00              1   \n",
       "3           2018-03-23 00:00:00              2   \n",
       "4           2017-08-16 00:00:00              1   \n",
       "\n",
       "                         product_id                         seller_id  \\\n",
       "0  fd25ab760bfbba13c198fa3b4f1a0cd3  6d803cb79cc31c41c4c789a75933b3c7   \n",
       "1  fd25ab760bfbba13c198fa3b4f1a0cd3  6d803cb79cc31c41c4c789a75933b3c7   \n",
       "2  1acb18fc869c5489d5f76abcd681165e  6d803cb79cc31c41c4c789a75933b3c7   \n",
       "3  1acb18fc869c5489d5f76abcd681165e  6d803cb79cc31c41c4c789a75933b3c7   \n",
       "4  45faac1ea8c173bb8c3e6cf23f5aac4e  6d803cb79cc31c41c4c789a75933b3c7   \n",
       "\n",
       "   shipping_limit_date  price  freight_value  seller_zip_code_prefix  \\\n",
       "0  2018-01-18 15:47:59  185.0          13.63                   14600   \n",
       "1  2018-01-18 15:47:59  185.0          13.63                   14600   \n",
       "2  2018-03-06 14:10:22  135.0          18.20                   14600   \n",
       "3  2018-03-06 14:10:22  135.0          18.20                   14600   \n",
       "4  2017-08-02 21:25:25   39.9          12.69                   14600   \n",
       "\n",
       "            seller_city seller_state  \n",
       "0  sao joaquim da barra           SP  \n",
       "1  sao joaquim da barra           SP  \n",
       "2  sao joaquim da barra           SP  \n",
       "3  sao joaquim da barra           SP  \n",
       "4  sao joaquim da barra           SP  "
      ]
     },
     "execution_count": 36,
     "metadata": {},
     "output_type": "execute_result"
    }
   ],
   "source": [
    "seller_review.head()"
   ]
  },
  {
   "cell_type": "code",
   "execution_count": null,
   "id": "0d679435",
   "metadata": {},
   "outputs": [],
   "source": [
    "grp=seller_review['review_score'].groupby(seller_review['seller_id'])"
   ]
  },
  {
   "cell_type": "code",
   "execution_count": null,
   "id": "e1e3453c",
   "metadata": {},
   "outputs": [
    {
     "data": {
      "text/plain": [
       "[['001e6ad469a905060d959994f1b41e4f', 1.0],\n",
       " ['010da0602d7774602cd1b3f5fb7b709e', 1.0],\n",
       " ['0aa124728afc1131dff5655f4c6f487b', 1.0],\n",
       " ['1444c08e64d55fb3c25f0f09c07ffcf2', 1.0],\n",
       " ['154bdf805377afea75a3bd158e9eab10', 1.0],\n",
       " ['15ac3c501e2599e4917316fde5c5669a', 1.0],\n",
       " ['15aec03fe4cf30dfa574cf550f5ff5ff', 1.0],\n",
       " ['15b3b1b81484422eb41df68ac87f1f50', 1.0],\n",
       " ['17adeba047385fb0c67d8e90b4296d21', 1.0],\n",
       " ['19484c79cef6c062cb177aa4ef2fcc3c', 1.0],\n",
       " ['1967a9e2ad6f51802b093147d861df58', 1.0],\n",
       " ['1992f8fb6b19fcccd97ca819811e7267', 1.0],\n",
       " ['1b4b28463457a256e9a784ebe2a8f630', 1.0],\n",
       " ['1e47d8b6546eb3a77b1acddcc9406242', 1.0],\n",
       " ['1f7dfad2cb384ea4d2d7e1ffbd78c407', 1.0],\n",
       " ['1fa2d3def6adfa70e58c276bb64fe5bb', 1.0],\n",
       " ['1fbe10c70e30765ed1de86d9f7e98409', 1.5],\n",
       " ['1fddcb7b326905d3ad5efe82187db347', 1.0],\n",
       " ['20fd2d2080ed85fa67fad3fcbb2c1813', 1.0],\n",
       " ['244b04680fdbded0acf5aebd9c92b44a', 1.0],\n",
       " ['278b6e0b20c4f61fefaa0577943d7a35', 1.0],\n",
       " ['2a50b7ee5aebecc6fd0ff9784a4747d6', 1.0],\n",
       " ['2ec6e37d992a95eaddb3369dcbcc76d9', 1.5],\n",
       " ['30c7f28fd3a5897b2c82d152bb760c17', 1.6666666666666667],\n",
       " ['324583d68897f5ddbaf38f6248322176', 1.0],\n",
       " ['3338e7a0710a195872be80e0d2423867', 1.0],\n",
       " ['34aefe746cd81b7f3b23253ea28bef39', 1.0],\n",
       " ['37ceb404da208418c9032f0674e57804', 1.0],\n",
       " ['391bbd13b6452244774beff1824006ed', 1.0],\n",
       " ['3a52d63a8f9daf5a28f3626d7eb9bd28', 1.0],\n",
       " ['3a79f35a2344ede41af21267f61d5ec6', 1.0],\n",
       " ['3bfad056cf05c00dabe2f895925d83b1', 1.0],\n",
       " ['3da38366e7bd9baf6369071f782ecdf0', 1.0],\n",
       " ['4003520d80d0bad1d5623f7aa3c63cda', 1.0],\n",
       " ['40536e7ca18e1bce252828e5876466cc', 1.0],\n",
       " ['42d4b7e70819438f5ada61c965e92d7e', 1.0],\n",
       " ['4342d4b2ba6b161468c63a7e7cfce593', 1.263157894736842],\n",
       " ['43a5d4a57af536fddc96d08be3afdfcb', 1.0],\n",
       " ['4bc3d93e4a5f88a598d3d8ce4ae510b3', 1.0],\n",
       " ['4be2e7f96b4fd749d52dff41f80e39dd', 1.0],\n",
       " ['4e2627090e6e5b9fabba883a37897683', 1.0],\n",
       " ['4e326052e5dbba8adcd512f3450a307e', 1.6666666666666667],\n",
       " ['4e42581f08e8cfc7c090f930bac4552a', 1.0],\n",
       " ['4f40d2ed38d1cc945364a7cd202a82c7', 1.0],\n",
       " ['50c361bcf670d16f6df4d52de3dff924', 1.0],\n",
       " ['5151aea44289d6c6b090ee31c2132508', 1.8333333333333333],\n",
       " ['51a04a8a6bdcb23deccc82b0b80742cf', 1.0],\n",
       " ['5206cc4bc2297c833e6061c49bf9c43f', 1.0],\n",
       " ['553a440137d6e0cf776aee0bb83ac9f5', 1.0],\n",
       " ['56a8b450e802502ba53a9885ee38e29f', 1.0],\n",
       " ['586a871d4f1221763fddb6ceefdeb95e', 1.0],\n",
       " ['58b98ccb79873e04eac4357cacc590d9', 1.0],\n",
       " ['5aaa890629f83706d8d9bfecd8377c1c', 1.0],\n",
       " ['5c603ffb38cbbf25a0e0698941324143', 1.0],\n",
       " ['5ca5d579b5857ee8709479b1047cecc3', 1.0],\n",
       " ['5dc4bdaf869e8c77c648078cbe8d59c2', 1.0],\n",
       " ['60ad151920c4f6f3ebbe8cfdf6166779', 1.0],\n",
       " ['61b893c57e33626afb104d4112b1be76', 1.0],\n",
       " ['61c36f0fc4a47f9532e5512b66668e62', 1.0],\n",
       " ['61f159ef6da2d441951d2c0efa719362', 1.0],\n",
       " ['62d977e2b2aee830de3e039a28490d12', 1.0],\n",
       " ['633ecdf879b94b5337cca303328e4a25', 1.8],\n",
       " ['63704069d9bd3a75c1cf59babe56004a', 1.0],\n",
       " ['63bc58679c44e8a998792119fd7ad23e', 1.0],\n",
       " ['6576fd3e23c88f0e5d4d23f39bba0542', 1.0],\n",
       " ['6614814a00d344b846ae209f95ee7e3f', 1.0],\n",
       " ['66d5ae34537110d3affc56174dad2b2f', 1.0],\n",
       " ['67e43d802fde8cfd3f9580124f8167d1', 1.0],\n",
       " ['6d04126aba80df143fd038e711b8fd96', 1.0],\n",
       " ['6dc9bec584588412a6a338830946a3e4', 1.5],\n",
       " ['6e2d3e2dc84fb30f6078f39dd3bddd6f', 1.0],\n",
       " ['6e85dc5ecd97a61094b89b046a509d8e', 1.0],\n",
       " ['6ee85be3693ed79a8e80718743d80655', 1.9230769230769231],\n",
       " ['749e7cdabbaf72f16677859e27874ba5', 1.0],\n",
       " ['77dcbb67ccb3659bd58eaf5661560a30', 1.0],\n",
       " ['781a66c0d89e30814d49fe8b5e14cd07', 1.0],\n",
       " ['791cfcfe22fe4a771ece27f90017da92', 1.5],\n",
       " ['7994081388d55b9cf976c050653dd359', 1.6666666666666667],\n",
       " ['79ee721b6f766066a80264402548d359', 1.0],\n",
       " ['7a073a40a9d3f1fee8bc45670ea1e909', 1.0],\n",
       " ['7a188843479798ca813108fa7b959286', 1.0],\n",
       " ['7e3dde9ffba72d5340f9aaf09b4424be', 1.0],\n",
       " ['7e959205cebc10adefcb331f934238a4', 1.0],\n",
       " ['83d7070a0b9a8b4625fa8682b819fabb', 1.0],\n",
       " ['8501d82f68d23148b6d78bb7c4a42037', 1.0],\n",
       " ['8629a7efec1aab257e58cda559f03ba7', 1.0],\n",
       " ['86649b1632b1c0e6c0bcb2c90a8b75d8', 1.0],\n",
       " ['87f3e35268860433e13d577825aada95', 1.0],\n",
       " ['880eda903e719a5f179f7e9fceb3a69d', 1.0],\n",
       " ['88af55b4a7ca402b27df16f7c7c9b5d2', 1.0],\n",
       " ['8bd0e3abda539b9479c4b44a691be1ec', 1.9285714285714286],\n",
       " ['8c3b533c63cca56240f94f1e3a6b18ef', 1.3333333333333333],\n",
       " ['8d92f3ea807b89465643c219455e7369', 1.0],\n",
       " ['8e670472e453ba34a379331513d6aab1', 1.0],\n",
       " ['90d4125885ab6c86e8820a722be71974', 1.0],\n",
       " ['913fd0ebba70bb919f7254a02239173c', 1.0],\n",
       " ['92992bec39dde5766f590d3b1f46d465', 1.0],\n",
       " ['9523fb39dd240aa958e040f8183d64f3', 1.0],\n",
       " ['9591fc341b1bfb7ef561e2968ec6e011', 1.0],\n",
       " ['9599519be538b98748162a2b48248960', 1.0],\n",
       " ['96f7c797de9ca20efbe14545bed63eec', 1.0],\n",
       " ['984c273121e743dd14767befe6cb17f5', 1.0],\n",
       " ['9a208dee8f95cfdf00760c4d627828ec', 1.0],\n",
       " ['9bf11dfc0bec77e5a23028043c3c5a8f', 1.0],\n",
       " ['9c351405b754cc5ce3e2ecf277bb034a', 1.0],\n",
       " ['9c3a1c416c765687bc79a04113269929', 1.0],\n",
       " ['9c57bc60cfad5ee62d35d3f1ce4593a1', 1.0],\n",
       " ['9e17b9d64683aebcbb9ee362d06463b4', 1.0],\n",
       " ['9f56a7a649097b166d8ed286ad86a15c', 1.0],\n",
       " ['a0e19590a0923cdd0614ea9427713ced', 1.0],\n",
       " ['a247197e2e9c19a6a53a6888cb8b660f', 1.0],\n",
       " ['a2e85714b56b1cb6bb24a9a6e6cad36f', 1.0],\n",
       " ['a4b8d97cd5d3674eeff96abc99d8ed67', 1.0],\n",
       " ['ab75b89cc49c9ab3160d0c91565a442a', 1.5],\n",
       " ['ac137bac82ffa8548e62bd9d01d2a14f', 1.0],\n",
       " ['ac1ed5fc15901fbc92920361eb4ab350', 1.0],\n",
       " ['ad738d3fcf42655ed15c4960b7b6c601', 1.0],\n",
       " ['ad8ada0ffa993cb1197d102d9ab21a3e', 1.0],\n",
       " ['afac9f6b0c4e5f0a7ee87e922cd0f873', 1.0],\n",
       " ['b1b3948701c5c72445495bd161b83a4c', 1.7222222222222223],\n",
       " ['b37c4c02bda3161a7546a4e6d222d5b2', 1.4],\n",
       " ['b6c6854d4d92a5f6f46be8869da3fa1a', 1.0],\n",
       " ['b7ba853e9551f4558440881fd3e5c815', 1.0],\n",
       " ['bcf5566870987da7bc811fbc8c5b9fd9', 1.0],\n",
       " ['c004e5ea15737026cecaee0447e00b75', 1.0],\n",
       " ['c1dde11f12d05c478f5de2d7319ad3b2', 1.0],\n",
       " ['c200c73f9d7e5a08ca439d6a0803da7c', 1.0],\n",
       " ['c4b911d06343b21dd906651f8101cb49', 1.0],\n",
       " ['c542f5a8c64d973f30e9df8d06f70b4a', 1.0],\n",
       " ['c7b7db6c8f3c64a7cc1afa634db21d50', 1.0],\n",
       " ['c85d7b477a709c85a1e8b8f25aa1b270', 1.0],\n",
       " ['c87abc38c8ed3240861729e1aeadf221', 1.0],\n",
       " ['c88f62b4c386a59281014d677864d016', 1.0],\n",
       " ['c97aa4ee7420f937da13b7f9e2228b99', 1.0],\n",
       " ['ca5832c6960267b71041f74bb39e8b12', 1.0],\n",
       " ['cb4a705d00e100b9732d0ca34817d441', 1.0],\n",
       " ['cc1f04647be106ba74e62b21f358af25', 1.0],\n",
       " ['cecd97bc34ed8330bd4cd15713eda670', 1.0],\n",
       " ['cf281cf8b7affbdfe751b29cc85580e1', 1.0],\n",
       " ['d1a5cc844736958c11b8efab9a2b4c87', 1.0],\n",
       " ['d1e2fe627180431ffda076abb303c56f', 1.0],\n",
       " ['d4a5e99e0dd915df64ba55a7fbd583fd', 1.6666666666666667],\n",
       " ['d65f31d2413268e671989503f6cf9993', 1.0],\n",
       " ['d8dd176509baa37f359644d082bf7f7b', 1.5],\n",
       " ['da2782c804606d2a5d8e1760dbb3e7ec', 1.0],\n",
       " ['dadc51ef321949ec9a3ab25cd902e23d', 1.0],\n",
       " ['dc120d932ddf9d4dfb6fd68beefda622', 1.0],\n",
       " ['deaadd805612bf94faaa9fa702516e11', 1.0],\n",
       " ['df683dfda87bf71ac3fc63063fba369d', 1.0],\n",
       " ['e174dc2de86d60fee178170a154c05e7', 1.0],\n",
       " ['e1a210d482714ce337763a19aef94ba4', 1.0],\n",
       " ['e46bc031f2c5bae4ccb40bb90712e9b4', 1.0],\n",
       " ['e628d4a53c109f09ca88098338b3a3f5', 1.0],\n",
       " ['e6ffc9ac6a7adc9d16a1cfc2286dd546', 1.0],\n",
       " ['ec2e006556300a79a5a91e4876ab3a56', 1.375],\n",
       " ['ec5c1d94df153d473b37f880977ae58e', 1.6666666666666667],\n",
       " ['f0563bacf40c311f1c4d3d6b67b8a7a7', 1.0],\n",
       " ['f09e26011d833ddab11593c1a097a92a', 1.0],\n",
       " ['f0ec6a2adb05c62655a26dd347b8dede', 1.0],\n",
       " ['f114dca2828bf718548db175ebe2cfcd', 1.0],\n",
       " ['f3055483058c84d75ca2a3314fb4deef', 1.0],\n",
       " ['f524ad65d7e0f1daab730ef2d2e86196', 1.0],\n",
       " ['f5403d3f50089112c4eed37928b7f622', 1.0],\n",
       " ['f7df46c1e0ec44eed5c6726478da4a17', 1.0],\n",
       " ['f9eda05b67bef472deaddbba84aca289', 1.0],\n",
       " ['fa18c782a4866d313cadab567097f8f1', 1.0],\n",
       " ['fa7ad8ae9bcb2c4493fdf38e96b1d74f', 1.0],\n",
       " ['fc6295add6f51a0936407ead70c1001d', 1.0],\n",
       " ['fc99f99385ae90f66f01733856fb88c9', 1.0],\n",
       " ['fec6912baad85d41729669edd6b4d3b8', 1.0],\n",
       " ['ffcfefa19b08742c5d315f2791395ee5', 1.0]]"
      ]
     },
     "execution_count": 38,
     "metadata": {},
     "output_type": "execute_result"
    }
   ],
   "source": [
    "low_score=[]\n",
    "for label,member in grp:\n",
    "    x=label\n",
    "    \n",
    "    y=(member.value_counts()*member.value_counts().index).sum()/member.value_counts().sum()\n",
    "    \n",
    "    if(y<2):\n",
    "        low_score.append([x,y])\n",
    "\n",
    "    \n",
    "low_score"
   ]
  },
  {
   "cell_type": "markdown",
   "id": "eeb48147",
   "metadata": {},
   "source": [
    "### Product analysis"
   ]
  },
  {
   "cell_type": "code",
   "execution_count": null,
   "id": "ab5b509e",
   "metadata": {},
   "outputs": [],
   "source": []
  }
 ],
 "metadata": {
  "kernelspec": {
   "display_name": "Python 3 (ipykernel)",
   "language": "python",
   "name": "python3"
  },
  "language_info": {
   "codemirror_mode": {
    "name": "ipython",
    "version": 3
   },
   "file_extension": ".py",
   "mimetype": "text/x-python",
   "name": "python",
   "nbconvert_exporter": "python",
   "pygments_lexer": "ipython3",
   "version": "3.10.6"
  }
 },
 "nbformat": 4,
 "nbformat_minor": 5
}
